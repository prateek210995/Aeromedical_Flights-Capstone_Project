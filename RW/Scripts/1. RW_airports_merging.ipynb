{
 "cells": [
  {
   "cell_type": "code",
   "execution_count": 1,
   "metadata": {},
   "outputs": [],
   "source": [
    "import os\n",
    "import sys\n",
    "import numpy as np\n",
    "import pandas as pd\n",
    "from geopy import Point\n",
    "from geopy import distance\n",
    "pd.set_option('display.max_columns', 999)"
   ]
  },
  {
   "cell_type": "code",
   "execution_count": 2,
   "metadata": {},
   "outputs": [],
   "source": [
    "# load datasets\n",
    "rw = pd.read_csv(\"..//Datasets/NEW/RW_flights.csv\", parse_dates=['date'])\n",
    "rw_info = pd.read_csv(\"..//Datasets/NEW/RW_services_info.csv\")\n",
    "airports = pd.read_csv(\"..//Datasets/Airports/BTS_Airports_LAT_LON.csv\")\n",
    "airport_codes = pd.read_csv(\"..//Datasets/Airports/airport-codes.csv\")"
   ]
  },
  {
   "cell_type": "code",
   "execution_count": 3,
   "metadata": {},
   "outputs": [
    {
     "data": {
      "text/plain": [
       "899"
      ]
     },
     "execution_count": 3,
     "metadata": {},
     "output_type": "execute_result"
    }
   ],
   "source": [
    "# number of existing tail numbers with flight history\n",
    "rw.tail_number.nunique() "
   ]
  },
  {
   "cell_type": "code",
   "execution_count": 99,
   "metadata": {},
   "outputs": [
    {
     "data": {
      "text/plain": [
       "215"
      ]
     },
     "execution_count": 99,
     "metadata": {},
     "output_type": "execute_result"
    }
   ],
   "source": [
    "# number of unique air medical services\n",
    "rw.Owner.nunique()"
   ]
  },
  {
   "cell_type": "code",
   "execution_count": 4,
   "metadata": {},
   "outputs": [
    {
     "name": "stdout",
     "output_type": "stream",
     "text": [
      "82.78 %\n"
     ]
    }
   ],
   "source": [
    "# The percentage of the total tail numbers\n",
    "print(round(rw.tail_number.nunique() / rw_info.Tail_number.nunique() * 100, 2), \"%\")"
   ]
  },
  {
   "cell_type": "code",
   "execution_count": 5,
   "metadata": {},
   "outputs": [
    {
     "data": {
      "text/plain": [
       "38107"
      ]
     },
     "execution_count": 5,
     "metadata": {},
     "output_type": "execute_result"
    }
   ],
   "source": [
    "# count of training flights \n",
    "len(rw.loc[rw.origin == rw.destination])"
   ]
  },
  {
   "cell_type": "code",
   "execution_count": 6,
   "metadata": {},
   "outputs": [
    {
     "name": "stdout",
     "output_type": "stream",
     "text": [
      "<class 'pandas.core.frame.DataFrame'>\n",
      "RangeIndex: 136391 entries, 0 to 136390\n",
      "Data columns (total 10 columns):\n",
      " #   Column                Non-Null Count   Dtype         \n",
      "---  ------                --------------   -----         \n",
      " 0   tail_number           136391 non-null  object        \n",
      " 1   date                  136391 non-null  datetime64[ns]\n",
      " 2   aircraft              136391 non-null  object        \n",
      " 3   origin                136391 non-null  object        \n",
      " 4   origin_location       136391 non-null  object        \n",
      " 5   destination           136314 non-null  object        \n",
      " 6   destination_location  136391 non-null  object        \n",
      " 7   departure             136391 non-null  object        \n",
      " 8   arrival               136186 non-null  object        \n",
      " 9   duration              136331 non-null  object        \n",
      "dtypes: datetime64[ns](1), object(9)\n",
      "memory usage: 10.4+ MB\n"
     ]
    }
   ],
   "source": [
    "rw.info()"
   ]
  },
  {
   "cell_type": "code",
   "execution_count": 7,
   "metadata": {},
   "outputs": [
    {
     "data": {
      "text/plain": [
       "tail_number               0\n",
       "date                      0\n",
       "aircraft                  0\n",
       "origin                    0\n",
       "origin_location           0\n",
       "destination              77\n",
       "destination_location      0\n",
       "departure                 0\n",
       "arrival                 205\n",
       "duration                 60\n",
       "dtype: int64"
      ]
     },
     "execution_count": 7,
     "metadata": {},
     "output_type": "execute_result"
    }
   ],
   "source": [
    "rw.isna().sum()"
   ]
  },
  {
   "cell_type": "markdown",
   "metadata": {},
   "source": [
    "#### Data preprocessing\n",
    "---"
   ]
  },
  {
   "cell_type": "code",
   "execution_count": 8,
   "metadata": {},
   "outputs": [
    {
     "data": {
      "text/plain": [
       "16578"
      ]
     },
     "execution_count": 8,
     "metadata": {},
     "output_type": "execute_result"
    }
   ],
   "source": [
    "# check duplicates airport_codes\n",
    "airport_codes.duplicated(subset=['gps_code']).sum()"
   ]
  },
  {
   "cell_type": "code",
   "execution_count": 9,
   "metadata": {},
   "outputs": [
    {
     "data": {
      "text/plain": [
       "28768"
      ]
     },
     "execution_count": 9,
     "metadata": {},
     "output_type": "execute_result"
    }
   ],
   "source": [
    "# check duplicates airport_codes\n",
    "airport_codes.duplicated(subset=['local_code']).sum()"
   ]
  },
  {
   "cell_type": "code",
   "execution_count": 10,
   "metadata": {},
   "outputs": [],
   "source": [
    "# Remove useless words from rw\n",
    "rw = rw.replace(regex={'Near ':'', 'First seen ':'', 'Last seen ':'', 'result unknown': np.nan, 'En Route':None, 'unknown': np.nan,\n",
    "                       'n/a': np.nan, 'Unknown':None, 'Diverted':np.nan, '¬†':' ', 'Scheduled': None, 'Cancelled': np.nan})"
   ]
  },
  {
   "cell_type": "code",
   "execution_count": 11,
   "metadata": {},
   "outputs": [
    {
     "data": {
      "text/plain": [
       "270"
      ]
     },
     "execution_count": 11,
     "metadata": {},
     "output_type": "execute_result"
    }
   ],
   "source": [
    "# count of incomplete flights \n",
    "len(rw.loc[(rw.arrival.isna()) | (rw.duration.isna())])"
   ]
  },
  {
   "cell_type": "code",
   "execution_count": 12,
   "metadata": {},
   "outputs": [],
   "source": [
    "# split origin_Latitude and origin_Longitude\n",
    "rw['origin_Latitude'] = rw[rw.origin_location.str.startswith('L ')].origin_location.replace(regex={'L ':''}).str.split(\" \", n = 1, expand = True)[0]\n",
    "rw['origin_Longitude'] = rw[rw.origin_location.str.startswith('L ')].origin_location.replace(regex={'L ':''}).str.split(\" \", n = 1, expand = True)[1]"
   ]
  },
  {
   "cell_type": "code",
   "execution_count": 13,
   "metadata": {},
   "outputs": [],
   "source": [
    "# split destination_Latitude and destination_Longitude\n",
    "rw['destination_Latitude'] = rw[rw.destination_location.str.startswith('L ', na=False)].destination_location.replace(regex={'L ':''}).str.split(\" \", n = 1, expand = True)[0]\n",
    "rw['destination_Longitude'] = rw[rw.destination_location.str.startswith('L ', na=False)].destination_location.replace(regex={'L ':''}).str.split(\" \", n = 1, expand = True)[1]"
   ]
  },
  {
   "cell_type": "code",
   "execution_count": 14,
   "metadata": {},
   "outputs": [],
   "source": [
    "# convert to numeric\n",
    "rw['origin_Latitude'] = pd.to_numeric(rw.origin_Latitude, errors='coerce')\n",
    "rw['origin_Longitude'] = pd.to_numeric(rw.origin_Longitude, errors='coerce')\n",
    "\n",
    "rw['destination_Latitude'] = pd.to_numeric(rw.destination_Latitude, errors='coerce')\n",
    "rw['destination_Longitude'] = pd.to_numeric(rw.destination_Longitude, errors='coerce')"
   ]
  },
  {
   "cell_type": "code",
   "execution_count": 15,
   "metadata": {},
   "outputs": [],
   "source": [
    "# split ICAO_code\n",
    "rw['ICAO_code_origin'] = rw[rw.origin_Latitude.isna()].origin_location.str.rsplit(\" - \", n = 1, expand = True)[1]\n",
    "rw['ICAO_code_destination'] = rw[rw.destination_Latitude.isna()].destination_location.str.rsplit(\" - \", n = 1, expand = True)[1]"
   ]
  },
  {
   "cell_type": "code",
   "execution_count": 16,
   "metadata": {},
   "outputs": [],
   "source": [
    "# replace dual ICAO code\n",
    "rw.loc[rw.ICAO_code_origin.str.contains(' / ', na=False), 'ICAO_code_origin'] = rw.loc[rw.ICAO_code_origin.str.contains(' / ', na=False), 'ICAO_code_origin'].str.split(\" / \", expand=True, n=1)[0]\n",
    "\n",
    "rw.loc[rw.ICAO_code_destination.str.contains(' / ', na=False), 'ICAO_code_destination'] = rw.loc[rw.ICAO_code_destination.str.contains(' / ', na=False), 'ICAO_code_destination'].str.split(\" / \", expand=True, n=1)[0]"
   ]
  },
  {
   "cell_type": "markdown",
   "metadata": {},
   "source": [
    "#### Origin Location\n",
    "---"
   ]
  },
  {
   "cell_type": "code",
   "execution_count": 17,
   "metadata": {},
   "outputs": [],
   "source": [
    "# merge origin airport information 1 time\n",
    "rw = rw.merge(airport_codes[['ident']].add_suffix('_origin_1'),\n",
    "         how='left', left_on='ICAO_code_origin', right_on='ident_origin_1')"
   ]
  },
  {
   "cell_type": "code",
   "execution_count": 18,
   "metadata": {},
   "outputs": [],
   "source": [
    "# Switch dual ICAO codes\n",
    "rw.loc[(rw.ICAO_code_origin.notnull()) & (rw.ident_origin_1.isna()) & rw.origin.str.contains(' / '), 'ICAO_code_origin'] = rw.loc[(rw.ICAO_code_origin.notnull()) & (rw.ident_origin_1.isna()) & rw.origin.str.contains(' / '), 'origin'].str.split(' / ', n=1, expand=True)[1].str.replace(')', '')"
   ]
  },
  {
   "cell_type": "code",
   "execution_count": 19,
   "metadata": {},
   "outputs": [],
   "source": [
    "# merge origin airport information 2 time\n",
    "rw = rw.merge(airport_codes[['ident']].add_suffix('_origin_2'),\n",
    "         how='left', left_on='ICAO_code_origin', right_on='ident_origin_2')"
   ]
  },
  {
   "cell_type": "code",
   "execution_count": 20,
   "metadata": {},
   "outputs": [],
   "source": [
    "# merge similar columns\n",
    "rw.loc[(rw.ICAO_code_origin.notnull()) & (rw.ident_origin_1.isna()) & (rw.origin.str.contains(' / ')), 'ident_origin_1'] = rw.loc[(rw.ICAO_code_origin.notnull()) & (rw.ident_origin_1.isna()) & (rw.origin.str.contains(' / ')), 'ident_origin_2']"
   ]
  },
  {
   "cell_type": "code",
   "execution_count": 21,
   "metadata": {},
   "outputs": [],
   "source": [
    "# Drop duplicated column\n",
    "rw = rw.drop(['ident_origin_2'], axis=1)"
   ]
  },
  {
   "cell_type": "code",
   "execution_count": 22,
   "metadata": {},
   "outputs": [],
   "source": [
    "# load airport_codes again\n",
    "airport_codes = pd.read_csv(\"..//Datasets/Airports/airport-codes.csv\")"
   ]
  },
  {
   "cell_type": "code",
   "execution_count": 23,
   "metadata": {},
   "outputs": [],
   "source": [
    "# drop duplicates in gps_code\n",
    "airport_codes = airport_codes.drop_duplicates(subset=['gps_code'])"
   ]
  },
  {
   "cell_type": "code",
   "execution_count": 24,
   "metadata": {},
   "outputs": [],
   "source": [
    "# merge origin airport information 3 time\n",
    "rw = rw.merge(airport_codes[['gps_code', 'ident']].add_suffix('_origin_2'),\n",
    "         how='left', left_on='ICAO_code_origin', right_on='gps_code_origin_2')"
   ]
  },
  {
   "cell_type": "code",
   "execution_count": 25,
   "metadata": {},
   "outputs": [],
   "source": [
    "# merge similar columns\n",
    "rw.loc[(rw.ICAO_code_origin.notnull()) & (rw.ident_origin_1.isna()), 'ident_origin_1'] = rw.loc[(rw.ICAO_code_origin.notnull()) & (rw.ident_origin_1.isna()), 'ident_origin_2']"
   ]
  },
  {
   "cell_type": "code",
   "execution_count": 26,
   "metadata": {},
   "outputs": [],
   "source": [
    "# Drop duplicated columns\n",
    "rw = rw.drop(['ident_origin_2', 'gps_code_origin_2'], axis=1)"
   ]
  },
  {
   "cell_type": "code",
   "execution_count": 27,
   "metadata": {},
   "outputs": [],
   "source": [
    "# load airport_codes again\n",
    "airport_codes = pd.read_csv(\"..//Datasets/Airports/airport-codes.csv\")"
   ]
  },
  {
   "cell_type": "code",
   "execution_count": 28,
   "metadata": {},
   "outputs": [],
   "source": [
    "# drop duplicates in local_code\n",
    "airport_codes = airport_codes.drop_duplicates(subset=['local_code'])"
   ]
  },
  {
   "cell_type": "code",
   "execution_count": 29,
   "metadata": {},
   "outputs": [],
   "source": [
    "# merge origin airport information 4 times\n",
    "rw = rw.merge(airport_codes[['local_code', 'ident']].add_suffix('_origin_2'),\n",
    "         how='left', left_on='ICAO_code_origin', right_on='local_code_origin_2')"
   ]
  },
  {
   "cell_type": "code",
   "execution_count": 30,
   "metadata": {},
   "outputs": [],
   "source": [
    "# merge similar columns\n",
    "rw.loc[(rw.ICAO_code_origin.notnull()) & (rw.ident_origin_1.isna()), 'ident_origin_1'] = rw.loc[(rw.ICAO_code_origin.notnull()) & (rw.ident_origin_1.isna()), 'ident_origin_2']"
   ]
  },
  {
   "cell_type": "code",
   "execution_count": 31,
   "metadata": {},
   "outputs": [],
   "source": [
    "# Drop duplicated columns\n",
    "rw = rw.drop(['ident_origin_2', 'local_code_origin_2'], axis=1)"
   ]
  },
  {
   "cell_type": "code",
   "execution_count": 32,
   "metadata": {},
   "outputs": [],
   "source": [
    "# load airport_codes again\n",
    "airport_codes = pd.read_csv(\"..//Datasets/Airports/airport-codes.csv\")"
   ]
  },
  {
   "cell_type": "code",
   "execution_count": 33,
   "metadata": {},
   "outputs": [],
   "source": [
    "# split coordinates and convert to numeric\n",
    "airport_codes[\"Latitude\"] = pd.to_numeric(airport_codes.coordinates.str.split(', ', n=1, expand=True)[1])\n",
    "airport_codes[\"Longitude\"] = pd.to_numeric(airport_codes.coordinates.str.split(', ', n=1, expand=True)[0])"
   ]
  },
  {
   "cell_type": "code",
   "execution_count": 34,
   "metadata": {},
   "outputs": [],
   "source": [
    "airport_codes = airport_codes.replace(regex={r' Heliport': '', r' Airpark':'', r' Airport': '', r' Regional':'', r' Municipal':'', r' International':'',\n",
    "                                            r' LRRS':''})"
   ]
  },
  {
   "cell_type": "code",
   "execution_count": 35,
   "metadata": {},
   "outputs": [],
   "source": [
    "# add state to the name\n",
    "airport_codes.loc[:, 'name'] = airport_codes.loc[:, 'name'] + \", \" + airport_codes.iso_region.str.split('-', expand=True)[1]"
   ]
  },
  {
   "cell_type": "code",
   "execution_count": 36,
   "metadata": {},
   "outputs": [],
   "source": [
    "# drop duplicates\n",
    "airport_codes = airport_codes.drop_duplicates(subset=['name'])"
   ]
  },
  {
   "cell_type": "code",
   "execution_count": 37,
   "metadata": {},
   "outputs": [],
   "source": [
    "# merge origin airport information 5 times\n",
    "rw = rw.merge(airport_codes[['name', 'ident']].add_suffix('_origin_2'),\n",
    "         how='left', left_on='origin', right_on='name_origin_2')"
   ]
  },
  {
   "cell_type": "code",
   "execution_count": 38,
   "metadata": {},
   "outputs": [],
   "source": [
    "# merge similar columns\n",
    "rw.loc[(rw.ICAO_code_origin.isna()), 'ident_origin_1'] = rw.loc[(rw.ICAO_code_origin.isna()), 'ident_origin_2'] \n",
    "rw.loc[(rw.ICAO_code_origin.isna()), 'ICAO_code_origin'] = rw.loc[(rw.ICAO_code_origin.isna()), 'ident_origin_2'] "
   ]
  },
  {
   "cell_type": "code",
   "execution_count": 39,
   "metadata": {},
   "outputs": [],
   "source": [
    "# Drop duplicated columns\n",
    "rw = rw.drop(['ident_origin_2', 'name_origin_2'], axis=1)"
   ]
  },
  {
   "cell_type": "code",
   "execution_count": 40,
   "metadata": {},
   "outputs": [],
   "source": [
    "# load airport_codes again\n",
    "airport_codes = pd.read_csv(\"..//Datasets/Airports/airport-codes.csv\")\n",
    "\n",
    "# split coordinates and convert to numeric\n",
    "airport_codes[\"Latitude\"] = pd.to_numeric(airport_codes.coordinates.str.split(', ', n=1, expand=True)[1])\n",
    "airport_codes[\"Longitude\"] = pd.to_numeric(airport_codes.coordinates.str.split(', ', n=1, expand=True)[0])\n",
    "\n",
    "# remove all extra words\n",
    "airport_codes = airport_codes.replace(regex={r' Heliport': '', r' Airpark':'', r' Airport': '', r' Regional':'', r' Municipal':'', r' International':'',\n",
    "                                            r' LRRS':''})\n",
    "# add state to municipality\n",
    "airport_codes.loc[:, 'municipality'] = airport_codes.loc[:, 'municipality'] + \", \" + airport_codes.iso_region.str.split('-', expand=True)[1]\n",
    "\n",
    "# drop duplicates\n",
    "airport_codes = airport_codes.drop_duplicates(subset=['municipality'])"
   ]
  },
  {
   "cell_type": "code",
   "execution_count": 41,
   "metadata": {},
   "outputs": [],
   "source": [
    "# merge origin airport information 6 times\n",
    "rw = rw.merge(airport_codes[['municipality', 'ident']].add_suffix('_origin_2'),\n",
    "         how='left', left_on='origin', right_on='municipality_origin_2')"
   ]
  },
  {
   "cell_type": "code",
   "execution_count": 42,
   "metadata": {},
   "outputs": [],
   "source": [
    "# merge similar columns\n",
    "rw.loc[(rw.ICAO_code_origin.isna()), 'ident_origin_1'] = rw.loc[(rw.ICAO_code_origin.isna()), 'ident_origin_2'] \n",
    "rw.loc[(rw.ICAO_code_origin.isna()), 'ICAO_code_origin'] = rw.loc[(rw.ICAO_code_origin.isna()), 'ident_origin_2'] "
   ]
  },
  {
   "cell_type": "code",
   "execution_count": 43,
   "metadata": {},
   "outputs": [],
   "source": [
    "# Drop duplicated columns\n",
    "rw = rw.drop(['ident_origin_2', 'municipality_origin_2'], axis=1)"
   ]
  },
  {
   "cell_type": "code",
   "execution_count": 44,
   "metadata": {},
   "outputs": [
    {
     "name": "stdout",
     "output_type": "stream",
     "text": [
      "<class 'pandas.core.frame.DataFrame'>\n",
      "Int64Index: 136391 entries, 0 to 136390\n",
      "Data columns (total 17 columns):\n",
      " #   Column                 Non-Null Count   Dtype         \n",
      "---  ------                 --------------   -----         \n",
      " 0   tail_number            136391 non-null  object        \n",
      " 1   date                   136391 non-null  datetime64[ns]\n",
      " 2   aircraft               128675 non-null  object        \n",
      " 3   origin                 136391 non-null  object        \n",
      " 4   origin_location        136391 non-null  object        \n",
      " 5   destination            136314 non-null  object        \n",
      " 6   destination_location   136314 non-null  object        \n",
      " 7   departure              136391 non-null  object        \n",
      " 8   arrival                136175 non-null  object        \n",
      " 9   duration               136121 non-null  object        \n",
      " 10  origin_Latitude        60973 non-null   float64       \n",
      " 11  origin_Longitude       60973 non-null   float64       \n",
      " 12  destination_Latitude   53537 non-null   float64       \n",
      " 13  destination_Longitude  53537 non-null   float64       \n",
      " 14  ICAO_code_origin       135891 non-null  object        \n",
      " 15  ICAO_code_destination  82776 non-null   object        \n",
      " 16  ident_origin_1         135344 non-null  object        \n",
      "dtypes: datetime64[ns](1), float64(4), object(12)\n",
      "memory usage: 18.7+ MB\n"
     ]
    }
   ],
   "source": [
    "rw.info()"
   ]
  },
  {
   "cell_type": "code",
   "execution_count": 45,
   "metadata": {},
   "outputs": [
    {
     "data": {
      "text/plain": [
       "tail_number                  0\n",
       "date                         0\n",
       "aircraft                  7716\n",
       "origin                       0\n",
       "origin_location              0\n",
       "destination                 77\n",
       "destination_location        77\n",
       "departure                    0\n",
       "arrival                    216\n",
       "duration                   270\n",
       "origin_Latitude          75418\n",
       "origin_Longitude         75418\n",
       "destination_Latitude     82854\n",
       "destination_Longitude    82854\n",
       "ICAO_code_origin           500\n",
       "ICAO_code_destination    53615\n",
       "ident_origin_1            1047\n",
       "dtype: int64"
      ]
     },
     "execution_count": 45,
     "metadata": {},
     "output_type": "execute_result"
    }
   ],
   "source": [
    "rw.isna().sum()"
   ]
  },
  {
   "cell_type": "markdown",
   "metadata": {},
   "source": [
    "#### Destination Location \n",
    "---"
   ]
  },
  {
   "cell_type": "code",
   "execution_count": 46,
   "metadata": {},
   "outputs": [],
   "source": [
    "# load airport_codes again\n",
    "airport_codes = pd.read_csv(\"..//Datasets/Airports/airport-codes.csv\")"
   ]
  },
  {
   "cell_type": "code",
   "execution_count": 47,
   "metadata": {},
   "outputs": [],
   "source": [
    "# merge destination airport information 1 time\n",
    "rw = rw.merge(airport_codes[['ident']].add_suffix('_destination_1'),\n",
    "         how='left', left_on='ICAO_code_destination', right_on='ident_destination_1')"
   ]
  },
  {
   "cell_type": "code",
   "execution_count": 48,
   "metadata": {},
   "outputs": [],
   "source": [
    "# Switch dual ICAO codes\n",
    "rw.loc[(rw.ICAO_code_destination.notnull()) & (rw.ident_destination_1.isna()) & rw.destination.str.contains(' / '), 'ICAO_code_destination'] = rw.loc[(rw.ICAO_code_destination.notnull()) & (rw.ident_destination_1.isna()) & rw.destination.str.contains(' / '), 'destination'].str.split(' / ', n=1, expand=True)[1].str.replace(')', '')"
   ]
  },
  {
   "cell_type": "code",
   "execution_count": 49,
   "metadata": {},
   "outputs": [],
   "source": [
    "# merge destination airport information 2 time\n",
    "rw = rw.merge(airport_codes[['ident']].add_suffix('_destination_2'),\n",
    "         how='left', left_on='ICAO_code_destination', right_on='ident_destination_2')"
   ]
  },
  {
   "cell_type": "code",
   "execution_count": 50,
   "metadata": {},
   "outputs": [],
   "source": [
    "# merge similar columns\n",
    "rw.loc[(rw.ICAO_code_destination.notnull()) & (rw.ident_destination_1.isna()) & (rw.destination.str.contains(' / ')), 'ident_destination_1'] = rw.loc[(rw.ICAO_code_destination.notnull()) & (rw.ident_destination_1.isna()) & (rw.destination.str.contains(' / ')), 'ident_destination_2']"
   ]
  },
  {
   "cell_type": "code",
   "execution_count": 51,
   "metadata": {},
   "outputs": [],
   "source": [
    "# Drop duplicated column\n",
    "rw = rw.drop(['ident_destination_2'], axis=1)"
   ]
  },
  {
   "cell_type": "code",
   "execution_count": 52,
   "metadata": {},
   "outputs": [],
   "source": [
    "# load airport_codes again\n",
    "airport_codes = pd.read_csv(\"..//Datasets/Airports/airport-codes.csv\")"
   ]
  },
  {
   "cell_type": "code",
   "execution_count": 53,
   "metadata": {},
   "outputs": [],
   "source": [
    "# drop duplicates in gps_code\n",
    "airport_codes = airport_codes.drop_duplicates(subset=['gps_code'])"
   ]
  },
  {
   "cell_type": "code",
   "execution_count": 54,
   "metadata": {},
   "outputs": [],
   "source": [
    "# merge destination airport information 3 time\n",
    "rw = rw.merge(airport_codes[['gps_code', 'ident']].add_suffix('_destination_2'),\n",
    "         how='left', left_on='ICAO_code_destination', right_on='gps_code_destination_2')"
   ]
  },
  {
   "cell_type": "code",
   "execution_count": 55,
   "metadata": {},
   "outputs": [],
   "source": [
    "# merge similar columns\n",
    "rw.loc[(rw.ICAO_code_destination.notnull()) & (rw.ident_destination_1.isna()), 'ident_destination_1'] = rw.loc[(rw.ICAO_code_destination.notnull()) & (rw.ident_destination_1.isna()), 'ident_destination_2']"
   ]
  },
  {
   "cell_type": "code",
   "execution_count": 56,
   "metadata": {},
   "outputs": [],
   "source": [
    "# Drop duplicated columns\n",
    "rw = rw.drop(['ident_destination_2', 'gps_code_destination_2'], axis=1)"
   ]
  },
  {
   "cell_type": "code",
   "execution_count": 57,
   "metadata": {},
   "outputs": [],
   "source": [
    "# load airport_codes again\n",
    "airport_codes = pd.read_csv(\"..//Datasets/Airports/airport-codes.csv\")"
   ]
  },
  {
   "cell_type": "code",
   "execution_count": 58,
   "metadata": {},
   "outputs": [],
   "source": [
    "# drop duplicates in local_code\n",
    "airport_codes = airport_codes.drop_duplicates(subset=['local_code'])"
   ]
  },
  {
   "cell_type": "code",
   "execution_count": 59,
   "metadata": {},
   "outputs": [],
   "source": [
    "# merge destination airport information 4 times\n",
    "rw = rw.merge(airport_codes[['local_code', 'ident']].add_suffix('_destination_2'),\n",
    "         how='left', left_on='ICAO_code_destination', right_on='local_code_destination_2')"
   ]
  },
  {
   "cell_type": "code",
   "execution_count": 60,
   "metadata": {},
   "outputs": [],
   "source": [
    "# merge similar columns\n",
    "rw.loc[(rw.ICAO_code_destination.notnull()) & (rw.ident_destination_1.isna()), 'ident_destination_1'] = rw.loc[(rw.ICAO_code_destination.notnull()) & (rw.ident_destination_1.isna()), 'ident_destination_2']"
   ]
  },
  {
   "cell_type": "code",
   "execution_count": 61,
   "metadata": {},
   "outputs": [],
   "source": [
    "# Drop duplicated columns\n",
    "rw = rw.drop(['ident_destination_2', 'local_code_destination_2'], axis=1)"
   ]
  },
  {
   "cell_type": "code",
   "execution_count": 62,
   "metadata": {},
   "outputs": [],
   "source": [
    "# load airport_codes again\n",
    "airport_codes = pd.read_csv(\"..//Datasets/Airports/airport-codes.csv\")"
   ]
  },
  {
   "cell_type": "code",
   "execution_count": 63,
   "metadata": {},
   "outputs": [],
   "source": [
    "# split coordinates and convert to numeric\n",
    "airport_codes[\"Latitude\"] = pd.to_numeric(airport_codes.coordinates.str.split(', ', n=1, expand=True)[1])\n",
    "airport_codes[\"Longitude\"] = pd.to_numeric(airport_codes.coordinates.str.split(', ', n=1, expand=True)[0])"
   ]
  },
  {
   "cell_type": "code",
   "execution_count": 64,
   "metadata": {},
   "outputs": [],
   "source": [
    "airport_codes = airport_codes.replace(regex={r' Heliport': '', r' Airpark':'', r' Airport': '', r' Regional':'', \n",
    "                                             r' Municipal':'', r' International':'', r' LRRS':''})"
   ]
  },
  {
   "cell_type": "code",
   "execution_count": 65,
   "metadata": {},
   "outputs": [],
   "source": [
    "airport_codes.loc[:, 'name'] = airport_codes.loc[:, 'name'] + \", \" + airport_codes.iso_region.str.split('-', expand=True)[1]\n",
    "airport_codes.loc[:, 'municipality'] = airport_codes.loc[:, 'municipality'] + \", \" + airport_codes.iso_region.str.split('-', expand=True)[1]"
   ]
  },
  {
   "cell_type": "code",
   "execution_count": 66,
   "metadata": {},
   "outputs": [],
   "source": [
    "# drop duplicates\n",
    "airport_codes = airport_codes.drop_duplicates(subset=['municipality'])\n",
    "airport_codes = airport_codes.drop_duplicates(subset=['name'])"
   ]
  },
  {
   "cell_type": "code",
   "execution_count": 67,
   "metadata": {},
   "outputs": [],
   "source": [
    "# merge destination airport information 5 times\n",
    "rw = rw.merge(airport_codes[['name', 'ident']].add_suffix('_destination_2'),\n",
    "         how='left', left_on='destination', right_on='name_destination_2')"
   ]
  },
  {
   "cell_type": "code",
   "execution_count": 68,
   "metadata": {},
   "outputs": [],
   "source": [
    "# merge similar columns\n",
    "rw.loc[(rw.ICAO_code_destination.isna()), 'ident_destination_1'] = rw.loc[(rw.ICAO_code_destination.isna()), 'ident_destination_2'] \n",
    "rw.loc[(rw.ICAO_code_destination.isna()), 'ICAO_code_destination'] = rw.loc[(rw.ICAO_code_destination.isna()), 'ident_destination_2'] "
   ]
  },
  {
   "cell_type": "code",
   "execution_count": 69,
   "metadata": {},
   "outputs": [],
   "source": [
    "# Drop duplicated columns\n",
    "rw = rw.drop(['ident_destination_2', 'name_destination_2'], axis=1)"
   ]
  },
  {
   "cell_type": "code",
   "execution_count": 70,
   "metadata": {},
   "outputs": [],
   "source": [
    "# merge destination airport information 6 times\n",
    "rw = rw.merge(airport_codes[['municipality', 'ident']].add_suffix('_destination_2'),\n",
    "         how='left', left_on='destination', right_on='municipality_destination_2')"
   ]
  },
  {
   "cell_type": "code",
   "execution_count": 71,
   "metadata": {},
   "outputs": [],
   "source": [
    "# merge similar columns\n",
    "rw.loc[(rw.ICAO_code_destination.isna()), 'ident_destination_1'] = rw.loc[(rw.ICAO_code_destination.isna()), 'ident_destination_2'] \n",
    "rw.loc[(rw.ICAO_code_destination.isna()), 'ICAO_code_destination'] = rw.loc[(rw.ICAO_code_destination.isna()), 'ident_destination_2'] "
   ]
  },
  {
   "cell_type": "code",
   "execution_count": 72,
   "metadata": {},
   "outputs": [],
   "source": [
    "# Drop duplicated columns\n",
    "rw = rw.drop(['ident_destination_2', 'municipality_destination_2'], axis=1)"
   ]
  },
  {
   "cell_type": "code",
   "execution_count": 73,
   "metadata": {},
   "outputs": [
    {
     "name": "stdout",
     "output_type": "stream",
     "text": [
      "<class 'pandas.core.frame.DataFrame'>\n",
      "Int64Index: 136391 entries, 0 to 136390\n",
      "Data columns (total 18 columns):\n",
      " #   Column                 Non-Null Count   Dtype         \n",
      "---  ------                 --------------   -----         \n",
      " 0   tail_number            136391 non-null  object        \n",
      " 1   date                   136391 non-null  datetime64[ns]\n",
      " 2   aircraft               128675 non-null  object        \n",
      " 3   origin                 136391 non-null  object        \n",
      " 4   origin_location        136391 non-null  object        \n",
      " 5   destination            136314 non-null  object        \n",
      " 6   destination_location   136314 non-null  object        \n",
      " 7   departure              136391 non-null  object        \n",
      " 8   arrival                136175 non-null  object        \n",
      " 9   duration               136121 non-null  object        \n",
      " 10  origin_Latitude        60973 non-null   float64       \n",
      " 11  origin_Longitude       60973 non-null   float64       \n",
      " 12  destination_Latitude   53537 non-null   float64       \n",
      " 13  destination_Longitude  53537 non-null   float64       \n",
      " 14  ICAO_code_origin       135891 non-null  object        \n",
      " 15  ICAO_code_destination  135794 non-null  object        \n",
      " 16  ident_origin_1         135344 non-null  object        \n",
      " 17  ident_destination_1    135308 non-null  object        \n",
      "dtypes: datetime64[ns](1), float64(4), object(13)\n",
      "memory usage: 19.8+ MB\n"
     ]
    }
   ],
   "source": [
    "rw.info()"
   ]
  },
  {
   "cell_type": "code",
   "execution_count": 74,
   "metadata": {},
   "outputs": [
    {
     "data": {
      "text/plain": [
       "tail_number                  0\n",
       "date                         0\n",
       "aircraft                  7716\n",
       "origin                       0\n",
       "origin_location              0\n",
       "destination                 77\n",
       "destination_location        77\n",
       "departure                    0\n",
       "arrival                    216\n",
       "duration                   270\n",
       "origin_Latitude          75418\n",
       "origin_Longitude         75418\n",
       "destination_Latitude     82854\n",
       "destination_Longitude    82854\n",
       "ICAO_code_origin           500\n",
       "ICAO_code_destination      597\n",
       "ident_origin_1            1047\n",
       "ident_destination_1       1083\n",
       "dtype: int64"
      ]
     },
     "execution_count": 74,
     "metadata": {},
     "output_type": "execute_result"
    }
   ],
   "source": [
    "rw.isna().sum()"
   ]
  },
  {
   "cell_type": "markdown",
   "metadata": {},
   "source": [
    "#### Coordinates merging\n",
    "---"
   ]
  },
  {
   "cell_type": "code",
   "execution_count": 75,
   "metadata": {},
   "outputs": [],
   "source": [
    "# load airport_codes again\n",
    "airport_codes = pd.read_csv(\"..//Datasets/Airports/airport-codes.csv\")"
   ]
  },
  {
   "cell_type": "code",
   "execution_count": 76,
   "metadata": {},
   "outputs": [],
   "source": [
    "# split coordinates and convert to numeric\n",
    "airport_codes[\"Latitude\"] = pd.to_numeric(airport_codes.coordinates.str.split(', ', n=1, expand=True)[1])\n",
    "airport_codes[\"Longitude\"] = pd.to_numeric(airport_codes.coordinates.str.split(', ', n=1, expand=True)[0])"
   ]
  },
  {
   "cell_type": "code",
   "execution_count": 77,
   "metadata": {},
   "outputs": [],
   "source": [
    "# merge by origin\n",
    "rw = rw.merge(airport_codes.add_suffix('_origin'),\n",
    "         how='left', left_on='ident_origin_1', right_on='ident_origin')"
   ]
  },
  {
   "cell_type": "code",
   "execution_count": 78,
   "metadata": {},
   "outputs": [],
   "source": [
    "# replace origin_Latitude and origin_Longitude\n",
    "rw.loc[rw.origin_Latitude.isna(), 'origin_Latitude'] = rw.loc[rw.origin_Latitude.isna(), 'Latitude_origin']\n",
    "rw.loc[rw.origin_Longitude.isna(), 'origin_Longitude'] = rw.loc[rw.origin_Longitude.isna(), 'Longitude_origin']"
   ]
  },
  {
   "cell_type": "code",
   "execution_count": 79,
   "metadata": {},
   "outputs": [],
   "source": [
    "# drop all useless columns\n",
    "rw = rw.drop(['coordinates_origin', 'Latitude_origin', 'Longitude_origin', 'continent_origin', 'elevation_ft_origin', 'type_origin',\n",
    "         'local_code_origin', 'gps_code_origin', 'municipality_origin', 'iso_region_origin', 'ident_origin', 'iata_code_origin'], axis=1)"
   ]
  },
  {
   "cell_type": "code",
   "execution_count": 80,
   "metadata": {},
   "outputs": [],
   "source": [
    "# merge by destination\n",
    "rw = rw.merge(airport_codes.add_suffix('_destination'),\n",
    "         how='left', left_on='ident_destination_1', right_on='ident_destination')"
   ]
  },
  {
   "cell_type": "code",
   "execution_count": 81,
   "metadata": {},
   "outputs": [],
   "source": [
    "# replace destination_Latitude and destination_Longitude\n",
    "rw.loc[rw.destination_Latitude.isna(), 'destination_Latitude'] = rw.loc[rw.destination_Latitude.isna(), 'Latitude_destination']\n",
    "rw.loc[rw.destination_Longitude.isna(), 'destination_Longitude'] = rw.loc[rw.destination_Longitude.isna(), 'Longitude_destination']"
   ]
  },
  {
   "cell_type": "code",
   "execution_count": 82,
   "metadata": {},
   "outputs": [],
   "source": [
    "# drop all useless columns\n",
    "rw = rw.drop(['coordinates_destination', 'Latitude_destination', 'Longitude_destination', 'continent_destination', 'elevation_ft_destination', 'type_destination',\n",
    "         'local_code_destination', 'gps_code_destination', 'municipality_destination', 'iso_region_destination', 'ident_destination', 'iata_code_destination'], axis=1)"
   ]
  },
  {
   "cell_type": "code",
   "execution_count": 83,
   "metadata": {},
   "outputs": [
    {
     "data": {
      "text/plain": [
       "tail_number                   0\n",
       "date                          0\n",
       "aircraft                   7716\n",
       "origin                        0\n",
       "origin_location               0\n",
       "destination                  77\n",
       "destination_location         77\n",
       "departure                     0\n",
       "arrival                     216\n",
       "duration                    270\n",
       "origin_Latitude             547\n",
       "origin_Longitude            547\n",
       "destination_Latitude        487\n",
       "destination_Longitude       487\n",
       "ICAO_code_origin            500\n",
       "ICAO_code_destination       597\n",
       "ident_origin_1             1047\n",
       "ident_destination_1        1083\n",
       "name_origin                1047\n",
       "iso_country_origin         1047\n",
       "name_destination           1083\n",
       "iso_country_destination    1083\n",
       "dtype: int64"
      ]
     },
     "execution_count": 83,
     "metadata": {},
     "output_type": "execute_result"
    }
   ],
   "source": [
    "rw.isna().sum()"
   ]
  },
  {
   "cell_type": "code",
   "execution_count": 84,
   "metadata": {},
   "outputs": [
    {
     "name": "stdout",
     "output_type": "stream",
     "text": [
      "<class 'pandas.core.frame.DataFrame'>\n",
      "Int64Index: 136391 entries, 0 to 136390\n",
      "Data columns (total 22 columns):\n",
      " #   Column                   Non-Null Count   Dtype         \n",
      "---  ------                   --------------   -----         \n",
      " 0   tail_number              136391 non-null  object        \n",
      " 1   date                     136391 non-null  datetime64[ns]\n",
      " 2   aircraft                 128675 non-null  object        \n",
      " 3   origin                   136391 non-null  object        \n",
      " 4   origin_location          136391 non-null  object        \n",
      " 5   destination              136314 non-null  object        \n",
      " 6   destination_location     136314 non-null  object        \n",
      " 7   departure                136391 non-null  object        \n",
      " 8   arrival                  136175 non-null  object        \n",
      " 9   duration                 136121 non-null  object        \n",
      " 10  origin_Latitude          135844 non-null  float64       \n",
      " 11  origin_Longitude         135844 non-null  float64       \n",
      " 12  destination_Latitude     135904 non-null  float64       \n",
      " 13  destination_Longitude    135904 non-null  float64       \n",
      " 14  ICAO_code_origin         135891 non-null  object        \n",
      " 15  ICAO_code_destination    135794 non-null  object        \n",
      " 16  ident_origin_1           135344 non-null  object        \n",
      " 17  ident_destination_1      135308 non-null  object        \n",
      " 18  name_origin              135344 non-null  object        \n",
      " 19  iso_country_origin       135344 non-null  object        \n",
      " 20  name_destination         135308 non-null  object        \n",
      " 21  iso_country_destination  135308 non-null  object        \n",
      "dtypes: datetime64[ns](1), float64(4), object(17)\n",
      "memory usage: 23.9+ MB\n"
     ]
    }
   ],
   "source": [
    "rw.info()"
   ]
  },
  {
   "cell_type": "markdown",
   "metadata": {},
   "source": [
    "#### Additional Information\n",
    "---"
   ]
  },
  {
   "cell_type": "code",
   "execution_count": 85,
   "metadata": {},
   "outputs": [],
   "source": [
    "# add Owner columns\n",
    "rw = rw.merge(rw_info[['Tail_number','Owner']], how='left', left_on='tail_number', right_on='Tail_number').drop('Tail_number', axis=1)"
   ]
  },
  {
   "cell_type": "code",
   "execution_count": 86,
   "metadata": {},
   "outputs": [],
   "source": [
    "# calculate the distance\n",
    "for i in range(len(rw)):\n",
    "    try:\n",
    "        p1 = Point(str(rw.origin_Latitude[i]) + ' ' + str(rw.origin_Longitude[i]))\n",
    "        p2 = Point(str(rw.destination_Latitude[i]) + ' ' + str(rw.destination_Longitude[i]))\n",
    "    \n",
    "        rw.loc[i, 'distance_mi'] = distance.distance(p1,p2).miles\n",
    "    except:\n",
    "        pass"
   ]
  },
  {
   "cell_type": "code",
   "execution_count": 87,
   "metadata": {},
   "outputs": [],
   "source": [
    "# convert duration to minutes\n",
    "rw.duration = pd.to_numeric(rw.duration.str.split(\":\", expand=True)[0]) * 60 + pd.to_numeric(rw.duration.str.split(\":\", expand=True)[1])"
   ]
  },
  {
   "cell_type": "code",
   "execution_count": 88,
   "metadata": {},
   "outputs": [],
   "source": [
    "# split states \n",
    "rw['origin_state'] = rw.origin.str.split(', ', n=1, expand=True)[1]\n",
    "rw.loc[rw.origin_state.isna(), 'origin_state'] = rw.origin_location.str.split(', ', n=1, expand=True)[1].str.rsplit(') ', n=1, expand=True)[0]\n",
    "rw.loc[rw.origin_state.str.contains(' ', na=False), 'origin_state'] = rw.origin_location.str.rsplit(', ', n=1, expand=True)[1].str.split(')', n=1, expand=True)[0]\n",
    "\n",
    "rw['destination_state'] = rw.destination.str.split(', ', n=1, expand=True)[1]\n",
    "rw.loc[rw.destination_state.isna(), 'destination_state'] = rw.destination_location.str.split(', ', n=1, expand=True)[1].str.rsplit(') ', n=1, expand=True)[0]\n",
    "rw.loc[rw.destination_state.str.contains(' ', na=False), 'destination_state'] = rw.destination_location.str.rsplit(', ', n=1, expand=True)[1].str.split(')', n=1, expand=True)[0]"
   ]
  },
  {
   "cell_type": "code",
   "execution_count": 89,
   "metadata": {},
   "outputs": [],
   "source": [
    "# split cities\n",
    "rw['city_origin'] = rw.origin_location.str.rsplit(\" (\", n=1, expand=True)[1].str.rsplit(\", \", n=1, expand=True)[0]\n",
    "rw.loc[rw.city_origin.isna(), 'city_origin'] = rw.loc[rw.origin.str.contains(', ', na=False), 'origin'].str.split(', ', expand=True)[0]\n",
    "rw.loc[rw.city_origin.str.contains(' - ', na=False), 'city_origin'] = None\n",
    "\n",
    "rw['city_destination'] = rw.destination_location.str.rsplit(\" (\", n=1, expand=True)[1].str.rsplit(\", \", n=1, expand=True)[0]\n",
    "rw.loc[rw.city_destination.isna(), 'city_destination'] = rw.loc[rw.destination.str.contains(', ', na=False), 'destination'].str.split(', ', expand=True)[0]\n",
    "rw.loc[rw.city_destination.str.contains(' - ', na=False), 'city_origin'] = None"
   ]
  },
  {
   "cell_type": "code",
   "execution_count": 90,
   "metadata": {},
   "outputs": [],
   "source": [
    "# add shift\n",
    "rw['departure_shift'] = np.where((pd.to_datetime(rw.departure.str.split('M', n=1, expand=True)[0] + 'M', errors='coerce').dt.time.astype('str') < '19:00:00') &\\\n",
    "                       (pd.to_datetime(rw.departure.str.split('M', n=1, expand=True)[0] + 'M', errors='coerce').dt.time.astype('str') > '07:00:00'), 'day', 'night')\n",
    "\n",
    "rw['arrival_shift'] = np.where((pd.to_datetime(rw.arrival.str.split('M', n=1, expand=True)[0] + 'M', errors='coerce').dt.time.astype('str') < '19:00:00') &\\\n",
    "                       (pd.to_datetime(rw.arrival.str.split('M', n=1, expand=True)[0] + 'M', errors='coerce').dt.time.astype('str') > '07:00:00'), 'day', 'night')"
   ]
  },
  {
   "cell_type": "code",
   "execution_count": 91,
   "metadata": {},
   "outputs": [],
   "source": [
    "# rename columns and drop unnecessary columns\n",
    "rw = rw.rename({'ident_origin_1': 'origin_code', 'ident_destination_1': 'destination_code', \n",
    "           'name_origin':'airport_origin', 'iso_country_origin': 'country_origin',\n",
    "          'name_destination':'airport_destination', 'iso_country_destination': 'country_destination'}, axis=1)\\\n",
    "       .drop(['origin_location', 'destination_location', 'ICAO_code_origin', 'ICAO_code_destination'], axis=1)"
   ]
  },
  {
   "cell_type": "code",
   "execution_count": 92,
   "metadata": {},
   "outputs": [
    {
     "name": "stdout",
     "output_type": "stream",
     "text": [
      "<class 'pandas.core.frame.DataFrame'>\n",
      "Int64Index: 136391 entries, 0 to 136390\n",
      "Data columns (total 26 columns):\n",
      " #   Column                 Non-Null Count   Dtype         \n",
      "---  ------                 --------------   -----         \n",
      " 0   tail_number            136391 non-null  object        \n",
      " 1   date                   136391 non-null  datetime64[ns]\n",
      " 2   aircraft               128675 non-null  object        \n",
      " 3   origin                 136391 non-null  object        \n",
      " 4   destination            136314 non-null  object        \n",
      " 5   departure              136391 non-null  object        \n",
      " 6   arrival                136175 non-null  object        \n",
      " 7   duration               136121 non-null  float64       \n",
      " 8   origin_Latitude        135844 non-null  float64       \n",
      " 9   origin_Longitude       135844 non-null  float64       \n",
      " 10  destination_Latitude   135904 non-null  float64       \n",
      " 11  destination_Longitude  135904 non-null  float64       \n",
      " 12  origin_code            135344 non-null  object        \n",
      " 13  destination_code       135308 non-null  object        \n",
      " 14  airport_origin         135344 non-null  object        \n",
      " 15  country_origin         135344 non-null  object        \n",
      " 16  airport_destination    135308 non-null  object        \n",
      " 17  country_destination    135308 non-null  object        \n",
      " 18  Owner                  136391 non-null  object        \n",
      " 19  distance_mi            135402 non-null  float64       \n",
      " 20  origin_state           136336 non-null  object        \n",
      " 21  destination_state      136275 non-null  object        \n",
      " 22  city_origin            136314 non-null  object        \n",
      " 23  city_destination       136309 non-null  object        \n",
      " 24  departure_shift        136391 non-null  object        \n",
      " 25  arrival_shift          136391 non-null  object        \n",
      "dtypes: datetime64[ns](1), float64(6), object(19)\n",
      "memory usage: 33.1+ MB\n"
     ]
    }
   ],
   "source": [
    "rw.info()"
   ]
  },
  {
   "cell_type": "code",
   "execution_count": 93,
   "metadata": {},
   "outputs": [],
   "source": [
    "# rearrange columns\n",
    "rw = rw.iloc[:,:3].join([rw.iloc[:,12], rw.iloc[:,3], rw.iloc[:,13], rw.iloc[:,4], rw.iloc[:,5:8], rw.iloc[:,19], rw.iloc[:,18], \n",
    "                    rw.iloc[:,8:12], rw.iloc[:,14], rw.iloc[:,22], rw.iloc[:,20], rw.iloc[:,15],\n",
    "                    rw.iloc[:,16], rw.iloc[:,23], rw.iloc[:,21], rw.iloc[:,17], rw.iloc[:,24:26]])"
   ]
  },
  {
   "cell_type": "code",
   "execution_count": 94,
   "metadata": {},
   "outputs": [
    {
     "data": {
      "text/html": [
       "<div>\n",
       "<style scoped>\n",
       "    .dataframe tbody tr th:only-of-type {\n",
       "        vertical-align: middle;\n",
       "    }\n",
       "\n",
       "    .dataframe tbody tr th {\n",
       "        vertical-align: top;\n",
       "    }\n",
       "\n",
       "    .dataframe thead th {\n",
       "        text-align: right;\n",
       "    }\n",
       "</style>\n",
       "<table border=\"1\" class=\"dataframe\">\n",
       "  <thead>\n",
       "    <tr style=\"text-align: right;\">\n",
       "      <th></th>\n",
       "      <th>tail_number</th>\n",
       "      <th>date</th>\n",
       "      <th>aircraft</th>\n",
       "      <th>origin_code</th>\n",
       "      <th>origin</th>\n",
       "      <th>destination_code</th>\n",
       "      <th>destination</th>\n",
       "      <th>departure</th>\n",
       "      <th>arrival</th>\n",
       "      <th>duration</th>\n",
       "      <th>distance_mi</th>\n",
       "      <th>Owner</th>\n",
       "      <th>origin_Latitude</th>\n",
       "      <th>origin_Longitude</th>\n",
       "      <th>destination_Latitude</th>\n",
       "      <th>destination_Longitude</th>\n",
       "      <th>airport_origin</th>\n",
       "      <th>city_origin</th>\n",
       "      <th>origin_state</th>\n",
       "      <th>country_origin</th>\n",
       "      <th>airport_destination</th>\n",
       "      <th>city_destination</th>\n",
       "      <th>destination_state</th>\n",
       "      <th>country_destination</th>\n",
       "      <th>departure_shift</th>\n",
       "      <th>arrival_shift</th>\n",
       "    </tr>\n",
       "  </thead>\n",
       "  <tbody>\n",
       "    <tr>\n",
       "      <th>0</th>\n",
       "      <td>N640EC</td>\n",
       "      <td>2021-03-11</td>\n",
       "      <td>EC35</td>\n",
       "      <td>KPGV</td>\n",
       "      <td>Pitt-Greenville (KPGV)</td>\n",
       "      <td>KRWI</td>\n",
       "      <td>Rocky Mount-Wilson Rgnl (KRWI)</td>\n",
       "      <td>04:29AM EST</td>\n",
       "      <td>04:46AM EST</td>\n",
       "      <td>16.0</td>\n",
       "      <td>32.296705</td>\n",
       "      <td>METRO AVIATION INCSHREVEPORT, LA, US(Corporation)</td>\n",
       "      <td>35.635201</td>\n",
       "      <td>-77.385300</td>\n",
       "      <td>35.856300</td>\n",
       "      <td>-77.891899</td>\n",
       "      <td>Pitt Greenville Airport</td>\n",
       "      <td>Greenville</td>\n",
       "      <td>NC</td>\n",
       "      <td>US</td>\n",
       "      <td>Rocky Mount Wilson Regional Airport</td>\n",
       "      <td>Rocky Mount</td>\n",
       "      <td>NC</td>\n",
       "      <td>US</td>\n",
       "      <td>night</td>\n",
       "      <td>night</td>\n",
       "    </tr>\n",
       "    <tr>\n",
       "      <th>1</th>\n",
       "      <td>N640EC</td>\n",
       "      <td>2021-03-11</td>\n",
       "      <td>EC35</td>\n",
       "      <td>KRWI</td>\n",
       "      <td>Rocky Mount-Wilson Rgnl (KRWI)</td>\n",
       "      <td>KPGV</td>\n",
       "      <td>Pitt-Greenville (KPGV)</td>\n",
       "      <td>02:17AM EST</td>\n",
       "      <td>03:47AM EST (?)</td>\n",
       "      <td>89.0</td>\n",
       "      <td>32.296705</td>\n",
       "      <td>METRO AVIATION INCSHREVEPORT, LA, US(Corporation)</td>\n",
       "      <td>35.856300</td>\n",
       "      <td>-77.891899</td>\n",
       "      <td>35.635201</td>\n",
       "      <td>-77.385300</td>\n",
       "      <td>Rocky Mount Wilson Regional Airport</td>\n",
       "      <td>Rocky Mount</td>\n",
       "      <td>NC</td>\n",
       "      <td>US</td>\n",
       "      <td>Pitt Greenville Airport</td>\n",
       "      <td>Greenville</td>\n",
       "      <td>NC</td>\n",
       "      <td>US</td>\n",
       "      <td>night</td>\n",
       "      <td>night</td>\n",
       "    </tr>\n",
       "    <tr>\n",
       "      <th>2</th>\n",
       "      <td>N640EC</td>\n",
       "      <td>2021-03-11</td>\n",
       "      <td>EC35</td>\n",
       "      <td>KPGV</td>\n",
       "      <td>Pitt-Greenville (KPGV)</td>\n",
       "      <td>KRWI</td>\n",
       "      <td>Rocky Mount-Wilson Rgnl (KRWI)</td>\n",
       "      <td>01:15AM EST</td>\n",
       "      <td>01:30AM EST (?)</td>\n",
       "      <td>15.0</td>\n",
       "      <td>32.296705</td>\n",
       "      <td>METRO AVIATION INCSHREVEPORT, LA, US(Corporation)</td>\n",
       "      <td>35.635201</td>\n",
       "      <td>-77.385300</td>\n",
       "      <td>35.856300</td>\n",
       "      <td>-77.891899</td>\n",
       "      <td>Pitt Greenville Airport</td>\n",
       "      <td>Greenville</td>\n",
       "      <td>NC</td>\n",
       "      <td>US</td>\n",
       "      <td>Rocky Mount Wilson Regional Airport</td>\n",
       "      <td>Rocky Mount</td>\n",
       "      <td>NC</td>\n",
       "      <td>US</td>\n",
       "      <td>night</td>\n",
       "      <td>night</td>\n",
       "    </tr>\n",
       "    <tr>\n",
       "      <th>3</th>\n",
       "      <td>N640EC</td>\n",
       "      <td>2021-03-10</td>\n",
       "      <td>EC35</td>\n",
       "      <td>KIXA</td>\n",
       "      <td>Roanoke Rapids, NC</td>\n",
       "      <td>KPGV</td>\n",
       "      <td>Pitt-Greenville (KPGV)</td>\n",
       "      <td>11:33PM EST</td>\n",
       "      <td>12:02AM EST (+1)</td>\n",
       "      <td>28.0</td>\n",
       "      <td>54.850847</td>\n",
       "      <td>METRO AVIATION INCSHREVEPORT, LA, US(Corporation)</td>\n",
       "      <td>36.403840</td>\n",
       "      <td>-77.637860</td>\n",
       "      <td>35.635201</td>\n",
       "      <td>-77.385300</td>\n",
       "      <td>Halifax-Northampton Regional Airport</td>\n",
       "      <td>Roanoke Rapids</td>\n",
       "      <td>NC</td>\n",
       "      <td>US</td>\n",
       "      <td>Pitt Greenville Airport</td>\n",
       "      <td>Greenville</td>\n",
       "      <td>NC</td>\n",
       "      <td>US</td>\n",
       "      <td>night</td>\n",
       "      <td>night</td>\n",
       "    </tr>\n",
       "    <tr>\n",
       "      <th>4</th>\n",
       "      <td>N640EC</td>\n",
       "      <td>2021-03-10</td>\n",
       "      <td>EC35</td>\n",
       "      <td>KRWI</td>\n",
       "      <td>Rocky Mount-Wilson Rgnl (KRWI)</td>\n",
       "      <td>KIXA</td>\n",
       "      <td>Roanoke Rapids, NC</td>\n",
       "      <td>08:50PM EST</td>\n",
       "      <td>09:31PM EST</td>\n",
       "      <td>41.0</td>\n",
       "      <td>41.163189</td>\n",
       "      <td>METRO AVIATION INCSHREVEPORT, LA, US(Corporation)</td>\n",
       "      <td>35.856300</td>\n",
       "      <td>-77.891899</td>\n",
       "      <td>36.413910</td>\n",
       "      <td>-77.628940</td>\n",
       "      <td>Rocky Mount Wilson Regional Airport</td>\n",
       "      <td>Rocky Mount</td>\n",
       "      <td>NC</td>\n",
       "      <td>US</td>\n",
       "      <td>Halifax-Northampton Regional Airport</td>\n",
       "      <td>Roanoke Rapids</td>\n",
       "      <td>NC</td>\n",
       "      <td>US</td>\n",
       "      <td>night</td>\n",
       "      <td>night</td>\n",
       "    </tr>\n",
       "  </tbody>\n",
       "</table>\n",
       "</div>"
      ],
      "text/plain": [
       "  tail_number       date aircraft origin_code                          origin  \\\n",
       "0      N640EC 2021-03-11     EC35        KPGV          Pitt-Greenville (KPGV)   \n",
       "1      N640EC 2021-03-11     EC35        KRWI  Rocky Mount-Wilson Rgnl (KRWI)   \n",
       "2      N640EC 2021-03-11     EC35        KPGV          Pitt-Greenville (KPGV)   \n",
       "3      N640EC 2021-03-10     EC35        KIXA              Roanoke Rapids, NC   \n",
       "4      N640EC 2021-03-10     EC35        KRWI  Rocky Mount-Wilson Rgnl (KRWI)   \n",
       "\n",
       "  destination_code                     destination    departure  \\\n",
       "0             KRWI  Rocky Mount-Wilson Rgnl (KRWI)  04:29AM EST   \n",
       "1             KPGV          Pitt-Greenville (KPGV)  02:17AM EST   \n",
       "2             KRWI  Rocky Mount-Wilson Rgnl (KRWI)  01:15AM EST   \n",
       "3             KPGV          Pitt-Greenville (KPGV)  11:33PM EST   \n",
       "4             KIXA              Roanoke Rapids, NC  08:50PM EST   \n",
       "\n",
       "            arrival  duration  distance_mi  \\\n",
       "0       04:46AM EST      16.0    32.296705   \n",
       "1   03:47AM EST (?)      89.0    32.296705   \n",
       "2   01:30AM EST (?)      15.0    32.296705   \n",
       "3  12:02AM EST (+1)      28.0    54.850847   \n",
       "4       09:31PM EST      41.0    41.163189   \n",
       "\n",
       "                                               Owner  origin_Latitude  \\\n",
       "0  METRO AVIATION INCSHREVEPORT, LA, US(Corporation)        35.635201   \n",
       "1  METRO AVIATION INCSHREVEPORT, LA, US(Corporation)        35.856300   \n",
       "2  METRO AVIATION INCSHREVEPORT, LA, US(Corporation)        35.635201   \n",
       "3  METRO AVIATION INCSHREVEPORT, LA, US(Corporation)        36.403840   \n",
       "4  METRO AVIATION INCSHREVEPORT, LA, US(Corporation)        35.856300   \n",
       "\n",
       "   origin_Longitude  destination_Latitude  destination_Longitude  \\\n",
       "0        -77.385300             35.856300             -77.891899   \n",
       "1        -77.891899             35.635201             -77.385300   \n",
       "2        -77.385300             35.856300             -77.891899   \n",
       "3        -77.637860             35.635201             -77.385300   \n",
       "4        -77.891899             36.413910             -77.628940   \n",
       "\n",
       "                         airport_origin     city_origin origin_state  \\\n",
       "0               Pitt Greenville Airport      Greenville           NC   \n",
       "1   Rocky Mount Wilson Regional Airport     Rocky Mount           NC   \n",
       "2               Pitt Greenville Airport      Greenville           NC   \n",
       "3  Halifax-Northampton Regional Airport  Roanoke Rapids           NC   \n",
       "4   Rocky Mount Wilson Regional Airport     Rocky Mount           NC   \n",
       "\n",
       "  country_origin                   airport_destination city_destination  \\\n",
       "0             US   Rocky Mount Wilson Regional Airport      Rocky Mount   \n",
       "1             US               Pitt Greenville Airport       Greenville   \n",
       "2             US   Rocky Mount Wilson Regional Airport      Rocky Mount   \n",
       "3             US               Pitt Greenville Airport       Greenville   \n",
       "4             US  Halifax-Northampton Regional Airport   Roanoke Rapids   \n",
       "\n",
       "  destination_state country_destination departure_shift arrival_shift  \n",
       "0                NC                  US           night         night  \n",
       "1                NC                  US           night         night  \n",
       "2                NC                  US           night         night  \n",
       "3                NC                  US           night         night  \n",
       "4                NC                  US           night         night  "
      ]
     },
     "execution_count": 94,
     "metadata": {},
     "output_type": "execute_result"
    }
   ],
   "source": [
    "rw.head()"
   ]
  },
  {
   "cell_type": "code",
   "execution_count": 95,
   "metadata": {},
   "outputs": [
    {
     "data": {
      "text/plain": [
       "tail_number                 0\n",
       "date                        0\n",
       "aircraft                 7716\n",
       "origin_code              1047\n",
       "origin                      0\n",
       "destination_code         1083\n",
       "destination                77\n",
       "departure                   0\n",
       "arrival                   216\n",
       "duration                  270\n",
       "distance_mi               989\n",
       "Owner                       0\n",
       "origin_Latitude           547\n",
       "origin_Longitude          547\n",
       "destination_Latitude      487\n",
       "destination_Longitude     487\n",
       "airport_origin           1047\n",
       "city_origin                77\n",
       "origin_state               55\n",
       "country_origin           1047\n",
       "airport_destination      1083\n",
       "city_destination           82\n",
       "destination_state         116\n",
       "country_destination      1083\n",
       "departure_shift             0\n",
       "arrival_shift               0\n",
       "dtype: int64"
      ]
     },
     "execution_count": 95,
     "metadata": {},
     "output_type": "execute_result"
    }
   ],
   "source": [
    "rw.isna().sum()"
   ]
  },
  {
   "cell_type": "code",
   "execution_count": 96,
   "metadata": {},
   "outputs": [],
   "source": [
    "# drop all imcomplete records\n",
    "rw = rw.loc[(rw.arrival.notnull()) & (rw.duration.notnull()) & (rw.country_origin == 'US') & (rw.country_destination == 'US')\\\n",
    "            & (rw.duration != 0) & (rw.origin != rw.destination) & (rw.distance_mi != 0)]"
   ]
  },
  {
   "cell_type": "code",
   "execution_count": 97,
   "metadata": {},
   "outputs": [
    {
     "name": "stdout",
     "output_type": "stream",
     "text": [
      "<class 'pandas.core.frame.DataFrame'>\n",
      "Int64Index: 96074 entries, 0 to 136390\n",
      "Data columns (total 26 columns):\n",
      " #   Column                 Non-Null Count  Dtype         \n",
      "---  ------                 --------------  -----         \n",
      " 0   tail_number            96074 non-null  object        \n",
      " 1   date                   96074 non-null  datetime64[ns]\n",
      " 2   aircraft               90671 non-null  object        \n",
      " 3   origin_code            96074 non-null  object        \n",
      " 4   origin                 96074 non-null  object        \n",
      " 5   destination_code       96074 non-null  object        \n",
      " 6   destination            96074 non-null  object        \n",
      " 7   departure              96074 non-null  object        \n",
      " 8   arrival                96074 non-null  object        \n",
      " 9   duration               96074 non-null  float64       \n",
      " 10  distance_mi            96074 non-null  float64       \n",
      " 11  Owner                  96074 non-null  object        \n",
      " 12  origin_Latitude        96074 non-null  float64       \n",
      " 13  origin_Longitude       96074 non-null  float64       \n",
      " 14  destination_Latitude   96074 non-null  float64       \n",
      " 15  destination_Longitude  96074 non-null  float64       \n",
      " 16  airport_origin         96074 non-null  object        \n",
      " 17  city_origin            96011 non-null  object        \n",
      " 18  origin_state           96034 non-null  object        \n",
      " 19  country_origin         96074 non-null  object        \n",
      " 20  airport_destination    96074 non-null  object        \n",
      " 21  city_destination       96074 non-null  object        \n",
      " 22  destination_state      96051 non-null  object        \n",
      " 23  country_destination    96074 non-null  object        \n",
      " 24  departure_shift        96074 non-null  object        \n",
      " 25  arrival_shift          96074 non-null  object        \n",
      "dtypes: datetime64[ns](1), float64(6), object(19)\n",
      "memory usage: 19.8+ MB\n"
     ]
    }
   ],
   "source": [
    "rw.info()"
   ]
  },
  {
   "cell_type": "code",
   "execution_count": 98,
   "metadata": {},
   "outputs": [],
   "source": [
    "# import to csv\n",
    "rw.to_csv(\"..//Datasets/NEW/RW_with_airports.csv\", index=False)"
   ]
  },
  {
   "cell_type": "code",
   "execution_count": null,
   "metadata": {},
   "outputs": [],
   "source": []
  }
 ],
 "metadata": {
  "kernelspec": {
   "display_name": "Python 3",
   "language": "python",
   "name": "python3"
  },
  "language_info": {
   "codemirror_mode": {
    "name": "ipython",
    "version": 3
   },
   "file_extension": ".py",
   "mimetype": "text/x-python",
   "name": "python",
   "nbconvert_exporter": "python",
   "pygments_lexer": "ipython3",
   "version": "3.8.5"
  }
 },
 "nbformat": 4,
 "nbformat_minor": 4
}
