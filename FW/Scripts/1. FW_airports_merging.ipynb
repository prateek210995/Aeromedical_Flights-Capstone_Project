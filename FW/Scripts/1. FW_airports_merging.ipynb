{
 "cells": [
  {
   "cell_type": "code",
   "execution_count": 1,
   "metadata": {},
   "outputs": [],
   "source": [
    "import os\n",
    "import sys\n",
    "import numpy as np\n",
    "import pandas as pd\n",
    "from geopy import Point\n",
    "from geopy import distance\n",
    "pd.set_option('display.max_columns', 999)"
   ]
  },
  {
   "cell_type": "code",
   "execution_count": 2,
   "metadata": {},
   "outputs": [],
   "source": [
    "# import datasets\n",
    "fw = pd.read_csv(\"..//Datasets/NEW/FW_flights.csv\", parse_dates=['date'])\n",
    "fw_info = pd.read_csv(\"..//Datasets/NEW/FW_services_info.csv\")\n",
    "airports = pd.read_csv(\"..//Datasets/Airports/BTS_Airports_LAT_LON.csv\")\n",
    "airport_codes = pd.read_csv(\"..//Datasets/Airports/airport-codes.csv\")"
   ]
  },
  {
   "cell_type": "code",
   "execution_count": 3,
   "metadata": {},
   "outputs": [
    {
     "data": {
      "text/plain": [
       "181"
      ]
     },
     "execution_count": 3,
     "metadata": {},
     "output_type": "execute_result"
    }
   ],
   "source": [
    "# number of existing tail numbers with flight history\n",
    "fw.tail_number.nunique() "
   ]
  },
  {
   "cell_type": "code",
   "execution_count": 4,
   "metadata": {},
   "outputs": [
    {
     "ename": "AttributeError",
     "evalue": "'DataFrame' object has no attribute 'Owner'",
     "output_type": "error",
     "traceback": [
      "\u001b[0;31m---------------------------------------------------------------------------\u001b[0m",
      "\u001b[0;31mAttributeError\u001b[0m                            Traceback (most recent call last)",
      "\u001b[0;32m<ipython-input-4-9b6ca29c3ff4>\u001b[0m in \u001b[0;36m<module>\u001b[0;34m\u001b[0m\n\u001b[1;32m      1\u001b[0m \u001b[0;31m# number of the unique air medical services\u001b[0m\u001b[0;34m\u001b[0m\u001b[0;34m\u001b[0m\u001b[0;34m\u001b[0m\u001b[0m\n\u001b[0;32m----> 2\u001b[0;31m \u001b[0mfw\u001b[0m\u001b[0;34m.\u001b[0m\u001b[0mOwner\u001b[0m\u001b[0;34m.\u001b[0m\u001b[0mnunique\u001b[0m\u001b[0;34m(\u001b[0m\u001b[0;34m)\u001b[0m\u001b[0;34m\u001b[0m\u001b[0;34m\u001b[0m\u001b[0m\n\u001b[0m",
      "\u001b[0;32m/opt/anaconda3/lib/python3.8/site-packages/pandas/core/generic.py\u001b[0m in \u001b[0;36m__getattr__\u001b[0;34m(self, name)\u001b[0m\n\u001b[1;32m   5137\u001b[0m             \u001b[0;32mif\u001b[0m \u001b[0mself\u001b[0m\u001b[0;34m.\u001b[0m\u001b[0m_info_axis\u001b[0m\u001b[0;34m.\u001b[0m\u001b[0m_can_hold_identifiers_and_holds_name\u001b[0m\u001b[0;34m(\u001b[0m\u001b[0mname\u001b[0m\u001b[0;34m)\u001b[0m\u001b[0;34m:\u001b[0m\u001b[0;34m\u001b[0m\u001b[0;34m\u001b[0m\u001b[0m\n\u001b[1;32m   5138\u001b[0m                 \u001b[0;32mreturn\u001b[0m \u001b[0mself\u001b[0m\u001b[0;34m[\u001b[0m\u001b[0mname\u001b[0m\u001b[0;34m]\u001b[0m\u001b[0;34m\u001b[0m\u001b[0;34m\u001b[0m\u001b[0m\n\u001b[0;32m-> 5139\u001b[0;31m             \u001b[0;32mreturn\u001b[0m \u001b[0mobject\u001b[0m\u001b[0;34m.\u001b[0m\u001b[0m__getattribute__\u001b[0m\u001b[0;34m(\u001b[0m\u001b[0mself\u001b[0m\u001b[0;34m,\u001b[0m \u001b[0mname\u001b[0m\u001b[0;34m)\u001b[0m\u001b[0;34m\u001b[0m\u001b[0;34m\u001b[0m\u001b[0m\n\u001b[0m\u001b[1;32m   5140\u001b[0m \u001b[0;34m\u001b[0m\u001b[0m\n\u001b[1;32m   5141\u001b[0m     \u001b[0;32mdef\u001b[0m \u001b[0m__setattr__\u001b[0m\u001b[0;34m(\u001b[0m\u001b[0mself\u001b[0m\u001b[0;34m,\u001b[0m \u001b[0mname\u001b[0m\u001b[0;34m:\u001b[0m \u001b[0mstr\u001b[0m\u001b[0;34m,\u001b[0m \u001b[0mvalue\u001b[0m\u001b[0;34m)\u001b[0m \u001b[0;34m->\u001b[0m \u001b[0;32mNone\u001b[0m\u001b[0;34m:\u001b[0m\u001b[0;34m\u001b[0m\u001b[0;34m\u001b[0m\u001b[0m\n",
      "\u001b[0;31mAttributeError\u001b[0m: 'DataFrame' object has no attribute 'Owner'"
     ]
    }
   ],
   "source": []
  },
  {
   "cell_type": "code",
   "execution_count": 4,
   "metadata": {},
   "outputs": [
    {
     "name": "stdout",
     "output_type": "stream",
     "text": [
      "54.35 %\n"
     ]
    }
   ],
   "source": [
    "# The percentage of the total tail numbers\n",
    "print(round(fw.tail_number.nunique() / fw_info.Tail_number.nunique() * 100, 2), \"%\")"
   ]
  },
  {
   "cell_type": "code",
   "execution_count": 5,
   "metadata": {},
   "outputs": [
    {
     "name": "stdout",
     "output_type": "stream",
     "text": [
      "<class 'pandas.core.frame.DataFrame'>\n",
      "RangeIndex: 23160 entries, 0 to 23159\n",
      "Data columns (total 10 columns):\n",
      " #   Column                Non-Null Count  Dtype         \n",
      "---  ------                --------------  -----         \n",
      " 0   tail_number           23160 non-null  object        \n",
      " 1   date                  23160 non-null  datetime64[ns]\n",
      " 2   aircraft              23160 non-null  object        \n",
      " 3   origin                23160 non-null  object        \n",
      " 4   origin_location       23160 non-null  object        \n",
      " 5   destination           23159 non-null  object        \n",
      " 6   destination_location  23160 non-null  object        \n",
      " 7   departure             23160 non-null  object        \n",
      " 8   arrival               22734 non-null  object        \n",
      " 9   duration              23148 non-null  object        \n",
      "dtypes: datetime64[ns](1), object(9)\n",
      "memory usage: 1.8+ MB\n"
     ]
    }
   ],
   "source": [
    "fw.info()"
   ]
  },
  {
   "cell_type": "code",
   "execution_count": 6,
   "metadata": {},
   "outputs": [
    {
     "data": {
      "text/plain": [
       "tail_number               0\n",
       "date                      0\n",
       "aircraft                  0\n",
       "origin                    0\n",
       "origin_location           0\n",
       "destination               1\n",
       "destination_location      0\n",
       "departure                 0\n",
       "arrival                 426\n",
       "duration                 12\n",
       "dtype: int64"
      ]
     },
     "execution_count": 6,
     "metadata": {},
     "output_type": "execute_result"
    }
   ],
   "source": [
    "# check for null values\n",
    "fw.isna().sum()"
   ]
  },
  {
   "cell_type": "markdown",
   "metadata": {},
   "source": [
    "#### Data preprocessing\n",
    "---"
   ]
  },
  {
   "cell_type": "code",
   "execution_count": 7,
   "metadata": {},
   "outputs": [
    {
     "data": {
      "text/plain": [
       "16578"
      ]
     },
     "execution_count": 7,
     "metadata": {},
     "output_type": "execute_result"
    }
   ],
   "source": [
    "# check duplicates airport_codes\n",
    "airport_codes.duplicated(subset=['gps_code']).sum()"
   ]
  },
  {
   "cell_type": "code",
   "execution_count": 8,
   "metadata": {},
   "outputs": [
    {
     "data": {
      "text/plain": [
       "28768"
      ]
     },
     "execution_count": 8,
     "metadata": {},
     "output_type": "execute_result"
    }
   ],
   "source": [
    "# check duplicates airport_codes\n",
    "airport_codes.duplicated(subset=['local_code']).sum()"
   ]
  },
  {
   "cell_type": "code",
   "execution_count": 9,
   "metadata": {},
   "outputs": [],
   "source": [
    "# Remove useless words\n",
    "fw = fw.replace(regex={'Near ':'', 'First seen ':'', 'Last seen ':'', 'result unknown': np.nan, 'En Route':None, 'unknown': np.nan,\n",
    "                       'n/a': np.nan, 'Unknown':None, 'Diverted':np.nan, '¬†':' ', 'Scheduled': None, 'Cancelled': np.nan})"
   ]
  },
  {
   "cell_type": "code",
   "execution_count": 10,
   "metadata": {},
   "outputs": [
    {
     "data": {
      "text/plain": [
       "731"
      ]
     },
     "execution_count": 10,
     "metadata": {},
     "output_type": "execute_result"
    }
   ],
   "source": [
    "# count of training flights \n",
    "len(fw.loc[fw.origin == fw.destination])"
   ]
  },
  {
   "cell_type": "code",
   "execution_count": 11,
   "metadata": {},
   "outputs": [],
   "source": [
    "# drop all training flights \n",
    "fw = fw.drop(fw.loc[fw.origin == fw.destination].index, axis=0)"
   ]
  },
  {
   "cell_type": "code",
   "execution_count": 12,
   "metadata": {},
   "outputs": [
    {
     "data": {
      "text/plain": [
       "470"
      ]
     },
     "execution_count": 12,
     "metadata": {},
     "output_type": "execute_result"
    }
   ],
   "source": [
    "# count of incomplete flights \n",
    "len(fw.loc[(fw.arrival.isna()) | (fw.duration.isna())])"
   ]
  },
  {
   "cell_type": "code",
   "execution_count": 13,
   "metadata": {},
   "outputs": [],
   "source": [
    "# drop all incomplete flights \n",
    "fw = fw.drop(fw.loc[(fw.arrival.isna()) | (fw.duration.isna())].index, axis=0)"
   ]
  },
  {
   "cell_type": "code",
   "execution_count": 14,
   "metadata": {},
   "outputs": [],
   "source": [
    "# split origin_Latitude and origin_Longitude\n",
    "fw['origin_Latitude'] = fw[fw.origin_location.str.startswith('L ')].origin_location.replace(regex={'L ':''}).str.split(\" \", n = 1, expand = True)[0]\n",
    "fw['origin_Longitude'] = fw[fw.origin_location.str.startswith('L ')].origin_location.replace(regex={'L ':''}).str.split(\" \", n = 1, expand = True)[1]"
   ]
  },
  {
   "cell_type": "code",
   "execution_count": 15,
   "metadata": {},
   "outputs": [],
   "source": [
    "# split destination_Latitude and destination_Longitude\n",
    "fw['destination_Latitude'] = fw[fw.destination_location.str.startswith('L ', na=False)].destination_location.replace(regex={'L ':''}).str.split(\" \", n = 1, expand = True)[0]\n",
    "fw['destination_Longitude'] = fw[fw.destination_location.str.startswith('L ', na=False)].destination_location.replace(regex={'L ':''}).str.split(\" \", n = 1, expand = True)[1]"
   ]
  },
  {
   "cell_type": "code",
   "execution_count": 16,
   "metadata": {},
   "outputs": [],
   "source": [
    "# convert to numeric\n",
    "fw['origin_Latitude'] = pd.to_numeric(fw.origin_Latitude, errors='coerce')\n",
    "fw['origin_Longitude'] = pd.to_numeric(fw.origin_Longitude, errors='coerce')\n",
    "\n",
    "fw['destination_Latitude'] = pd.to_numeric(fw.destination_Latitude, errors='coerce')\n",
    "fw['destination_Longitude'] = pd.to_numeric(fw.destination_Longitude, errors='coerce')"
   ]
  },
  {
   "cell_type": "code",
   "execution_count": 17,
   "metadata": {},
   "outputs": [],
   "source": [
    "# split ICAO_code\n",
    "fw['ICAO_code_origin'] = fw[fw.origin_Latitude.isna()].origin_location.str.rsplit(\" - \", n = 1, expand = True)[1]\n",
    "fw['ICAO_code_destination'] = fw[fw.destination_Latitude.isna()].destination_location.str.rsplit(\" - \", n = 1, expand = True)[1]"
   ]
  },
  {
   "cell_type": "code",
   "execution_count": 18,
   "metadata": {},
   "outputs": [],
   "source": [
    "# replace dual ICAO code\n",
    "fw.loc[fw.ICAO_code_origin.str.contains(' / ', na=False), 'ICAO_code_origin'] = fw.loc[fw.ICAO_code_origin.str.contains(' / ', na=False), 'ICAO_code_origin'].str.split(\" / \", expand=True, n=1)[0]\n",
    "\n",
    "fw.loc[fw.ICAO_code_destination.str.contains(' / ', na=False), 'ICAO_code_destination'] = fw.loc[fw.ICAO_code_destination.str.contains(' / ', na=False), 'ICAO_code_destination'].str.split(\" / \", expand=True, n=1)[0]"
   ]
  },
  {
   "cell_type": "markdown",
   "metadata": {},
   "source": [
    "#### Origin Location\n",
    "---"
   ]
  },
  {
   "cell_type": "code",
   "execution_count": 19,
   "metadata": {},
   "outputs": [],
   "source": [
    "# merge origin airport information 1 time\n",
    "fw = fw.merge(airport_codes[['ident']].add_suffix('_origin_1'),\n",
    "         how='left', left_on='ICAO_code_origin', right_on='ident_origin_1')"
   ]
  },
  {
   "cell_type": "code",
   "execution_count": 20,
   "metadata": {},
   "outputs": [],
   "source": [
    "# Switch dual ICAO codes\n",
    "fw.loc[(fw.ICAO_code_origin.notnull()) & (fw.ident_origin_1.isna()) & fw.origin.str.contains(' / '), 'ICAO_code_origin'] = fw.loc[(fw.ICAO_code_origin.notnull()) & (fw.ident_origin_1.isna()) & fw.origin.str.contains(' / '), 'origin'].str.split(' / ', n=1, expand=True)[1].str.replace(')', '')"
   ]
  },
  {
   "cell_type": "code",
   "execution_count": 21,
   "metadata": {},
   "outputs": [],
   "source": [
    "# merge origin airport information 2 time\n",
    "fw = fw.merge(airport_codes[['ident']].add_suffix('_origin_2'),\n",
    "         how='left', left_on='ICAO_code_origin', right_on='ident_origin_2')"
   ]
  },
  {
   "cell_type": "code",
   "execution_count": 22,
   "metadata": {},
   "outputs": [],
   "source": [
    "# merge similar columns\n",
    "fw.loc[(fw.ICAO_code_origin.notnull()) & (fw.ident_origin_1.isna()) & (fw.origin.str.contains(' / ')), 'ident_origin_1'] = fw.loc[(fw.ICAO_code_origin.notnull()) & (fw.ident_origin_1.isna()) & (fw.origin.str.contains(' / ')), 'ident_origin_2']"
   ]
  },
  {
   "cell_type": "code",
   "execution_count": 23,
   "metadata": {},
   "outputs": [],
   "source": [
    "# Drop duplicated column\n",
    "fw = fw.drop(['ident_origin_2'], axis=1)"
   ]
  },
  {
   "cell_type": "code",
   "execution_count": 24,
   "metadata": {},
   "outputs": [],
   "source": [
    "# load airport_codes again\n",
    "airport_codes = pd.read_csv(\"..//Datasets/Airports/airport-codes.csv\")"
   ]
  },
  {
   "cell_type": "code",
   "execution_count": 25,
   "metadata": {},
   "outputs": [],
   "source": [
    "# drop duplicates in gps_code\n",
    "airport_codes = airport_codes.drop_duplicates(subset=['gps_code'])"
   ]
  },
  {
   "cell_type": "code",
   "execution_count": 26,
   "metadata": {},
   "outputs": [],
   "source": [
    "# merge origin airport information 3 time\n",
    "fw = fw.merge(airport_codes[['gps_code', 'ident']].add_suffix('_origin_2'),\n",
    "         how='left', left_on='ICAO_code_origin', right_on='gps_code_origin_2')"
   ]
  },
  {
   "cell_type": "code",
   "execution_count": 27,
   "metadata": {},
   "outputs": [],
   "source": [
    "# merge similar columns\n",
    "fw.loc[(fw.ICAO_code_origin.notnull()) & (fw.ident_origin_1.isna()), 'ident_origin_1'] = fw.loc[(fw.ICAO_code_origin.notnull()) & (fw.ident_origin_1.isna()), 'ident_origin_2']"
   ]
  },
  {
   "cell_type": "code",
   "execution_count": 28,
   "metadata": {},
   "outputs": [],
   "source": [
    "# Drop duplicated columns\n",
    "fw = fw.drop(['ident_origin_2', 'gps_code_origin_2'], axis=1)"
   ]
  },
  {
   "cell_type": "code",
   "execution_count": 29,
   "metadata": {},
   "outputs": [],
   "source": [
    "# load airport_codes again\n",
    "airport_codes = pd.read_csv(\"..//Datasets/Airports/airport-codes.csv\")"
   ]
  },
  {
   "cell_type": "code",
   "execution_count": 30,
   "metadata": {},
   "outputs": [],
   "source": [
    "# drop duplicates in local_code\n",
    "airport_codes = airport_codes.drop_duplicates(subset=['local_code'])"
   ]
  },
  {
   "cell_type": "code",
   "execution_count": 31,
   "metadata": {},
   "outputs": [],
   "source": [
    "# merge origin airport information 4 times\n",
    "fw = fw.merge(airport_codes[['local_code', 'ident']].add_suffix('_origin_2'),\n",
    "         how='left', left_on='ICAO_code_origin', right_on='local_code_origin_2')"
   ]
  },
  {
   "cell_type": "code",
   "execution_count": 32,
   "metadata": {},
   "outputs": [],
   "source": [
    "# merge similar columns\n",
    "fw.loc[(fw.ICAO_code_origin.notnull()) & (fw.ident_origin_1.isna()), 'ident_origin_1'] = fw.loc[(fw.ICAO_code_origin.notnull()) & (fw.ident_origin_1.isna()), 'ident_origin_2']"
   ]
  },
  {
   "cell_type": "code",
   "execution_count": 33,
   "metadata": {},
   "outputs": [],
   "source": [
    "# Drop duplicated columns\n",
    "fw = fw.drop(['ident_origin_2', 'local_code_origin_2'], axis=1)"
   ]
  },
  {
   "cell_type": "code",
   "execution_count": 34,
   "metadata": {},
   "outputs": [],
   "source": [
    "# load airport_codes again\n",
    "airport_codes = pd.read_csv(\"..//Datasets/Airports/airport-codes.csv\")"
   ]
  },
  {
   "cell_type": "code",
   "execution_count": 35,
   "metadata": {},
   "outputs": [],
   "source": [
    "# split coordinates and convert to numeric\n",
    "airport_codes[\"Latitude\"] = pd.to_numeric(airport_codes.coordinates.str.split(', ', n=1, expand=True)[1])\n",
    "airport_codes[\"Longitude\"] = pd.to_numeric(airport_codes.coordinates.str.split(', ', n=1, expand=True)[0])"
   ]
  },
  {
   "cell_type": "code",
   "execution_count": 36,
   "metadata": {},
   "outputs": [],
   "source": [
    "airport_codes = airport_codes.replace(regex={r' Heliport': '', r' Airpark':'', r' Airport': '', r' Regional':'', r' Municipal':'', r' International':'',\n",
    "                                            r' LRRS':''})"
   ]
  },
  {
   "cell_type": "code",
   "execution_count": 37,
   "metadata": {},
   "outputs": [],
   "source": [
    "airport_codes.loc[:, 'name'] = airport_codes.loc[:, 'name'] + \", \" + airport_codes.iso_region.str.split('-', expand=True)[1]\n",
    "airport_codes.loc[:, 'municipality'] = airport_codes.loc[:, 'municipality'] + \", \" + airport_codes.iso_region.str.split('-', expand=True)[1]"
   ]
  },
  {
   "cell_type": "code",
   "execution_count": 38,
   "metadata": {},
   "outputs": [],
   "source": [
    "airport_codes = airport_codes.drop_duplicates(subset=['municipality'])"
   ]
  },
  {
   "cell_type": "code",
   "execution_count": 39,
   "metadata": {},
   "outputs": [],
   "source": [
    "# merge origin airport information 5 times\n",
    "fw = fw.merge(airport_codes[['name', 'ident']].add_suffix('_origin_2'),\n",
    "         how='left', left_on='origin', right_on='name_origin_2')"
   ]
  },
  {
   "cell_type": "code",
   "execution_count": 40,
   "metadata": {},
   "outputs": [],
   "source": [
    "# merge similar columns\n",
    "fw.loc[(fw.ICAO_code_origin.isna()), 'ident_origin_1'] = fw.loc[(fw.ICAO_code_origin.isna()), 'ident_origin_2'] \n",
    "fw.loc[(fw.ICAO_code_origin.isna()), 'ICAO_code_origin'] = fw.loc[(fw.ICAO_code_origin.isna()), 'ident_origin_2'] "
   ]
  },
  {
   "cell_type": "code",
   "execution_count": 41,
   "metadata": {},
   "outputs": [],
   "source": [
    "# Drop duplicated columns\n",
    "fw = fw.drop(['ident_origin_2', 'name_origin_2'], axis=1)"
   ]
  },
  {
   "cell_type": "code",
   "execution_count": 42,
   "metadata": {},
   "outputs": [],
   "source": [
    "# merge origin airport information 6 times\n",
    "fw = fw.merge(airport_codes[['municipality', 'ident']].add_suffix('_origin_2'),\n",
    "         how='left', left_on='origin', right_on='municipality_origin_2')"
   ]
  },
  {
   "cell_type": "code",
   "execution_count": 43,
   "metadata": {},
   "outputs": [],
   "source": [
    "# merge similar columns\n",
    "fw.loc[(fw.ICAO_code_origin.isna()), 'ident_origin_1'] = fw.loc[(fw.ICAO_code_origin.isna()), 'ident_origin_2'] \n",
    "fw.loc[(fw.ICAO_code_origin.isna()), 'ICAO_code_origin'] = fw.loc[(fw.ICAO_code_origin.isna()), 'ident_origin_2'] "
   ]
  },
  {
   "cell_type": "code",
   "execution_count": 44,
   "metadata": {},
   "outputs": [],
   "source": [
    "# Drop duplicated columns\n",
    "fw = fw.drop(['ident_origin_2', 'municipality_origin_2'], axis=1)"
   ]
  },
  {
   "cell_type": "code",
   "execution_count": 45,
   "metadata": {},
   "outputs": [
    {
     "data": {
      "text/plain": [
       "tail_number                  0\n",
       "date                         0\n",
       "aircraft                   115\n",
       "origin                       0\n",
       "origin_location              0\n",
       "destination                  0\n",
       "destination_location         0\n",
       "departure                    0\n",
       "arrival                      0\n",
       "duration                     0\n",
       "origin_Latitude          21635\n",
       "origin_Longitude         21635\n",
       "destination_Latitude     21458\n",
       "destination_Longitude    21458\n",
       "ICAO_code_origin            16\n",
       "ICAO_code_destination      504\n",
       "ident_origin_1              18\n",
       "dtype: int64"
      ]
     },
     "execution_count": 45,
     "metadata": {},
     "output_type": "execute_result"
    }
   ],
   "source": [
    "# check for null values\n",
    "fw.isna().sum()"
   ]
  },
  {
   "cell_type": "markdown",
   "metadata": {},
   "source": [
    "#### Destination Location \n",
    "---"
   ]
  },
  {
   "cell_type": "code",
   "execution_count": 46,
   "metadata": {},
   "outputs": [],
   "source": [
    "# load airport_codes again\n",
    "airport_codes = pd.read_csv(\"..//Datasets/Airports/airport-codes.csv\")"
   ]
  },
  {
   "cell_type": "code",
   "execution_count": 47,
   "metadata": {},
   "outputs": [],
   "source": [
    "# merge destination airport information 1 time\n",
    "fw = fw.merge(airport_codes[['ident']].add_suffix('_destination_1'),\n",
    "         how='left', left_on='ICAO_code_destination', right_on='ident_destination_1')"
   ]
  },
  {
   "cell_type": "code",
   "execution_count": 48,
   "metadata": {},
   "outputs": [],
   "source": [
    "# Switch dual ICAO codes\n",
    "fw.loc[(fw.ICAO_code_destination.notnull()) & (fw.ident_destination_1.isna()) & fw.destination.str.contains(' / '), 'ICAO_code_destination'] = fw.loc[(fw.ICAO_code_destination.notnull()) & (fw.ident_destination_1.isna()) & fw.destination.str.contains(' / '), 'destination'].str.split(' / ', n=1, expand=True)[1].str.replace(')', '')"
   ]
  },
  {
   "cell_type": "code",
   "execution_count": 49,
   "metadata": {},
   "outputs": [],
   "source": [
    "# merge destination airport information 2 time\n",
    "fw = fw.merge(airport_codes[['ident']].add_suffix('_destination_2'),\n",
    "         how='left', left_on='ICAO_code_destination', right_on='ident_destination_2')"
   ]
  },
  {
   "cell_type": "code",
   "execution_count": 50,
   "metadata": {},
   "outputs": [],
   "source": [
    "# merge similar columns\n",
    "fw.loc[(fw.ICAO_code_destination.notnull()) & (fw.ident_destination_1.isna()) & (fw.destination.str.contains(' / ')), 'ident_destination_1'] = fw.loc[(fw.ICAO_code_destination.notnull()) & (fw.ident_destination_1.isna()) & (fw.destination.str.contains(' / ')), 'ident_destination_2']"
   ]
  },
  {
   "cell_type": "code",
   "execution_count": 51,
   "metadata": {},
   "outputs": [],
   "source": [
    "# Drop duplicated column\n",
    "fw = fw.drop(['ident_destination_2'], axis=1)"
   ]
  },
  {
   "cell_type": "code",
   "execution_count": 52,
   "metadata": {},
   "outputs": [],
   "source": [
    "# load airport_codes again\n",
    "airport_codes = pd.read_csv(\"..//Datasets/Airports/airport-codes.csv\")"
   ]
  },
  {
   "cell_type": "code",
   "execution_count": 53,
   "metadata": {},
   "outputs": [],
   "source": [
    "# drop duplicates in gps_code\n",
    "airport_codes = airport_codes.drop_duplicates(subset=['gps_code'])"
   ]
  },
  {
   "cell_type": "code",
   "execution_count": 54,
   "metadata": {},
   "outputs": [],
   "source": [
    "# merge destination airport information 3 time\n",
    "fw = fw.merge(airport_codes[['gps_code', 'ident']].add_suffix('_destination_2'),\n",
    "         how='left', left_on='ICAO_code_destination', right_on='gps_code_destination_2')"
   ]
  },
  {
   "cell_type": "code",
   "execution_count": 55,
   "metadata": {},
   "outputs": [],
   "source": [
    "# merge similar columns\n",
    "fw.loc[(fw.ICAO_code_destination.notnull()) & (fw.ident_destination_1.isna()), 'ident_destination_1'] = fw.loc[(fw.ICAO_code_destination.notnull()) & (fw.ident_destination_1.isna()), 'ident_destination_2']"
   ]
  },
  {
   "cell_type": "code",
   "execution_count": 56,
   "metadata": {},
   "outputs": [],
   "source": [
    "# Drop duplicated columns\n",
    "fw = fw.drop(['ident_destination_2', 'gps_code_destination_2'], axis=1)"
   ]
  },
  {
   "cell_type": "code",
   "execution_count": 57,
   "metadata": {},
   "outputs": [],
   "source": [
    "# load airport_codes again\n",
    "airport_codes = pd.read_csv(\"..//Datasets/Airports/airport-codes.csv\")"
   ]
  },
  {
   "cell_type": "code",
   "execution_count": 58,
   "metadata": {},
   "outputs": [],
   "source": [
    "# drop duplicates in local_code\n",
    "airport_codes = airport_codes.drop_duplicates(subset=['local_code'])"
   ]
  },
  {
   "cell_type": "code",
   "execution_count": 59,
   "metadata": {},
   "outputs": [],
   "source": [
    "# merge destination airport information 4 times\n",
    "fw = fw.merge(airport_codes[['local_code', 'ident']].add_suffix('_destination_2'),\n",
    "         how='left', left_on='ICAO_code_destination', right_on='local_code_destination_2')"
   ]
  },
  {
   "cell_type": "code",
   "execution_count": 60,
   "metadata": {},
   "outputs": [],
   "source": [
    "# merge similar columns\n",
    "fw.loc[(fw.ICAO_code_destination.notnull()) & (fw.ident_destination_1.isna()), 'ident_destination_1'] = fw.loc[(fw.ICAO_code_destination.notnull()) & (fw.ident_destination_1.isna()), 'ident_destination_2']"
   ]
  },
  {
   "cell_type": "code",
   "execution_count": 61,
   "metadata": {},
   "outputs": [],
   "source": [
    "# Drop duplicated columns\n",
    "fw = fw.drop(['ident_destination_2', 'local_code_destination_2'], axis=1)"
   ]
  },
  {
   "cell_type": "code",
   "execution_count": 62,
   "metadata": {},
   "outputs": [],
   "source": [
    "# load airport_codes again\n",
    "airport_codes = pd.read_csv(\"..//Datasets/Airports/airport-codes.csv\")"
   ]
  },
  {
   "cell_type": "code",
   "execution_count": 63,
   "metadata": {},
   "outputs": [],
   "source": [
    "# split coordinates and convert to numeric\n",
    "airport_codes[\"Latitude\"] = pd.to_numeric(airport_codes.coordinates.str.split(', ', n=1, expand=True)[1])\n",
    "airport_codes[\"Longitude\"] = pd.to_numeric(airport_codes.coordinates.str.split(', ', n=1, expand=True)[0])"
   ]
  },
  {
   "cell_type": "code",
   "execution_count": 64,
   "metadata": {},
   "outputs": [],
   "source": [
    "airport_codes = airport_codes.replace(regex={r' Heliport': '', r' Airpark':'', r' Airport': '', r' Regional':'', \n",
    "                                             r' Municipal':'', r' International':'', r' LRRS':''})"
   ]
  },
  {
   "cell_type": "code",
   "execution_count": 65,
   "metadata": {},
   "outputs": [],
   "source": [
    "airport_codes.loc[:, 'name'] = airport_codes.loc[:, 'name'] + \", \" + airport_codes.iso_region.str.split('-', expand=True)[1]\n",
    "airport_codes.loc[:, 'municipality'] = airport_codes.loc[:, 'municipality'] + \", \" + airport_codes.iso_region.str.split('-', expand=True)[1]"
   ]
  },
  {
   "cell_type": "code",
   "execution_count": 66,
   "metadata": {},
   "outputs": [],
   "source": [
    "airport_codes = airport_codes.drop_duplicates(subset=['municipality'])"
   ]
  },
  {
   "cell_type": "code",
   "execution_count": 67,
   "metadata": {},
   "outputs": [],
   "source": [
    "# merge destination airport information 5 times\n",
    "fw = fw.merge(airport_codes[['name', 'ident']].add_suffix('_destination_2'),\n",
    "         how='left', left_on='destination', right_on='name_destination_2')"
   ]
  },
  {
   "cell_type": "code",
   "execution_count": 68,
   "metadata": {},
   "outputs": [],
   "source": [
    "# merge similar columns\n",
    "fw.loc[(fw.ICAO_code_destination.isna()), 'ident_destination_1'] = fw.loc[(fw.ICAO_code_destination.isna()), 'ident_destination_2'] \n",
    "fw.loc[(fw.ICAO_code_destination.isna()), 'ICAO_code_destination'] = fw.loc[(fw.ICAO_code_destination.isna()), 'ident_destination_2'] "
   ]
  },
  {
   "cell_type": "code",
   "execution_count": 69,
   "metadata": {},
   "outputs": [],
   "source": [
    "# Drop duplicated columns\n",
    "fw = fw.drop(['ident_destination_2', 'name_destination_2'], axis=1)"
   ]
  },
  {
   "cell_type": "code",
   "execution_count": 70,
   "metadata": {},
   "outputs": [],
   "source": [
    "# merge destination airport information 6 times\n",
    "fw = fw.merge(airport_codes[['municipality', 'ident']].add_suffix('_destination_2'),\n",
    "         how='left', left_on='destination', right_on='municipality_destination_2')"
   ]
  },
  {
   "cell_type": "code",
   "execution_count": 71,
   "metadata": {},
   "outputs": [],
   "source": [
    "# merge similar columns\n",
    "fw.loc[(fw.ICAO_code_destination.isna()), 'ident_destination_1'] = fw.loc[(fw.ICAO_code_destination.isna()), 'ident_destination_2'] \n",
    "fw.loc[(fw.ICAO_code_destination.isna()), 'ICAO_code_destination'] = fw.loc[(fw.ICAO_code_destination.isna()), 'ident_destination_2'] "
   ]
  },
  {
   "cell_type": "code",
   "execution_count": 72,
   "metadata": {},
   "outputs": [],
   "source": [
    "# Drop duplicated columns\n",
    "fw = fw.drop(['ident_destination_2', 'municipality_destination_2'], axis=1)"
   ]
  },
  {
   "cell_type": "code",
   "execution_count": 73,
   "metadata": {},
   "outputs": [
    {
     "data": {
      "text/plain": [
       "tail_number                  0\n",
       "date                         0\n",
       "aircraft                   115\n",
       "origin                       0\n",
       "origin_location              0\n",
       "destination                  0\n",
       "destination_location         0\n",
       "departure                    0\n",
       "arrival                      0\n",
       "duration                     0\n",
       "origin_Latitude          21635\n",
       "origin_Longitude         21635\n",
       "destination_Latitude     21458\n",
       "destination_Longitude    21458\n",
       "ICAO_code_origin            16\n",
       "ICAO_code_destination       36\n",
       "ident_origin_1              18\n",
       "ident_destination_1         38\n",
       "dtype: int64"
      ]
     },
     "execution_count": 73,
     "metadata": {},
     "output_type": "execute_result"
    }
   ],
   "source": [
    "# check for null values\n",
    "fw.isna().sum()"
   ]
  },
  {
   "cell_type": "markdown",
   "metadata": {},
   "source": [
    "#### Coordinates merging\n",
    "---"
   ]
  },
  {
   "cell_type": "code",
   "execution_count": 74,
   "metadata": {},
   "outputs": [],
   "source": [
    "# load airport_codes again\n",
    "airport_codes = pd.read_csv(\"..//Datasets/Airports/airport-codes.csv\")"
   ]
  },
  {
   "cell_type": "code",
   "execution_count": 75,
   "metadata": {},
   "outputs": [],
   "source": [
    "# split coordinates and convert to numeric\n",
    "airport_codes[\"Latitude\"] = pd.to_numeric(airport_codes.coordinates.str.split(', ', n=1, expand=True)[1])\n",
    "airport_codes[\"Longitude\"] = pd.to_numeric(airport_codes.coordinates.str.split(', ', n=1, expand=True)[0])"
   ]
  },
  {
   "cell_type": "code",
   "execution_count": 76,
   "metadata": {},
   "outputs": [],
   "source": [
    "# merge by origin\n",
    "fw = fw.merge(airport_codes.add_suffix('_origin'),\n",
    "         how='left', left_on='ident_origin_1', right_on='ident_origin')"
   ]
  },
  {
   "cell_type": "code",
   "execution_count": 77,
   "metadata": {},
   "outputs": [],
   "source": [
    "# replace origin_Latitude and origin_Longitude\n",
    "fw.loc[fw.origin_Latitude.isna(), 'origin_Latitude'] = fw.loc[fw.origin_Latitude.isna(), 'Latitude_origin']\n",
    "fw.loc[fw.origin_Longitude.isna(), 'origin_Longitude'] = fw.loc[fw.origin_Longitude.isna(), 'Longitude_origin']"
   ]
  },
  {
   "cell_type": "code",
   "execution_count": 78,
   "metadata": {},
   "outputs": [],
   "source": [
    "# drop all useless columns\n",
    "fw = fw.drop(['coordinates_origin', 'Latitude_origin', 'Longitude_origin', 'continent_origin', 'elevation_ft_origin', 'type_origin',\n",
    "         'local_code_origin', 'gps_code_origin', 'municipality_origin', 'iso_region_origin', 'ident_origin', 'iata_code_origin'], axis=1)"
   ]
  },
  {
   "cell_type": "code",
   "execution_count": 79,
   "metadata": {},
   "outputs": [],
   "source": [
    "# merge by destination\n",
    "fw = fw.merge(airport_codes.add_suffix('_destination'),\n",
    "         how='left', left_on='ident_destination_1', right_on='ident_destination')"
   ]
  },
  {
   "cell_type": "code",
   "execution_count": 80,
   "metadata": {},
   "outputs": [],
   "source": [
    "# replace destination_Latitude and destination_Longitude\n",
    "fw.loc[fw.destination_Latitude.isna(), 'destination_Latitude'] = fw.loc[fw.destination_Latitude.isna(), 'Latitude_destination']\n",
    "fw.loc[fw.destination_Longitude.isna(), 'destination_Longitude'] = fw.loc[fw.destination_Longitude.isna(), 'Longitude_destination']"
   ]
  },
  {
   "cell_type": "code",
   "execution_count": 81,
   "metadata": {},
   "outputs": [],
   "source": [
    "# drop all useless columns\n",
    "fw = fw.drop(['coordinates_destination', 'Latitude_destination', 'Longitude_destination', 'continent_destination', 'elevation_ft_destination', 'type_destination',\n",
    "         'local_code_destination', 'gps_code_destination', 'municipality_destination', 'iso_region_destination', 'ident_destination', 'iata_code_destination'], axis=1)"
   ]
  },
  {
   "cell_type": "code",
   "execution_count": 82,
   "metadata": {},
   "outputs": [
    {
     "data": {
      "text/plain": [
       "tail_number                  0\n",
       "date                         0\n",
       "aircraft                   115\n",
       "origin                       0\n",
       "origin_location              0\n",
       "destination                  0\n",
       "destination_location         0\n",
       "departure                    0\n",
       "arrival                      0\n",
       "duration                     0\n",
       "origin_Latitude              3\n",
       "origin_Longitude             3\n",
       "destination_Latitude         5\n",
       "destination_Longitude        5\n",
       "ICAO_code_origin            16\n",
       "ICAO_code_destination       36\n",
       "ident_origin_1              18\n",
       "ident_destination_1         38\n",
       "name_origin                 18\n",
       "iso_country_origin          18\n",
       "name_destination            38\n",
       "iso_country_destination     38\n",
       "dtype: int64"
      ]
     },
     "execution_count": 82,
     "metadata": {},
     "output_type": "execute_result"
    }
   ],
   "source": [
    "# check for null values\n",
    "fw.isna().sum()"
   ]
  },
  {
   "cell_type": "markdown",
   "metadata": {},
   "source": [
    "#### Additional Information\n",
    "---"
   ]
  },
  {
   "cell_type": "code",
   "execution_count": 83,
   "metadata": {},
   "outputs": [],
   "source": [
    "# add Owner column\n",
    "fw = fw.merge(fw_info[['Tail_number','Owner']], how='left', left_on='tail_number', right_on='Tail_number').drop('Tail_number', axis=1)"
   ]
  },
  {
   "cell_type": "code",
   "execution_count": 84,
   "metadata": {},
   "outputs": [],
   "source": [
    "# calculate the distance\n",
    "for i in range(len(fw)):\n",
    "    try:\n",
    "        p1 = Point(str(fw.origin_Latitude[i]) + ' ' + str(fw.origin_Longitude[i]))\n",
    "        p2 = Point(str(fw.destination_Latitude[i]) + ' ' + str(fw.destination_Longitude[i]))\n",
    "    \n",
    "        fw.loc[i, 'distance_mi'] = distance.distance(p1,p2).miles\n",
    "    except:\n",
    "        pass"
   ]
  },
  {
   "cell_type": "code",
   "execution_count": 85,
   "metadata": {},
   "outputs": [],
   "source": [
    "# split states \n",
    "fw['origin_state'] = fw.origin.str.split(', ', n=1, expand=True)[1]\n",
    "fw.loc[fw.origin_state.isna(), 'origin_state'] = fw.origin_location.str.split(', ', n=1, expand=True)[1].str.rsplit(') ', n=1, expand=True)[0]\n",
    "\n",
    "fw['destination_state'] = fw.destination.str.split(', ', n=1, expand=True)[1]\n",
    "fw.loc[fw.destination_state.isna(), 'destination_state'] = fw.destination_location.str.split(', ', n=1, expand=True)[1].str.rsplit(') ', n=1, expand=True)[0]"
   ]
  },
  {
   "cell_type": "code",
   "execution_count": 86,
   "metadata": {},
   "outputs": [],
   "source": [
    "# split cities\n",
    "fw['city_origin'] = fw.origin_location.str.rsplit(\" (\", n=1, expand=True)[1].str.split(\")\", n=1, expand=True)[0].str.split(',', n=1, expand=True)[0]\n",
    "fw.loc[fw.city_origin.isna(), 'city_origin'] =fw.loc[fw.city_origin.isna(), 'origin'].str.split(',', n=1, expand=True)[0]\n",
    "\n",
    "fw['city_destination'] = fw.destination_location.str.rsplit(\" (\", n=1, expand=True)[1].str.split(\")\", n=1, expand=True)[0].str.split(',', n=1, expand=True)[0]\n",
    "fw.loc[fw.city_destination.isna(), 'city_destination'] = fw.loc[fw.city_destination.isna(), 'destination'].str.split(',', n=1, expand=True)[0]"
   ]
  },
  {
   "cell_type": "code",
   "execution_count": 88,
   "metadata": {},
   "outputs": [],
   "source": [
    "# add shift\n",
    "fw['departure_shift'] = np.where((pd.to_datetime(fw.departure.str.split(' ', n=1, expand=True)[0]).dt.time.astype('str') < '19:00:00') &\\\n",
    "                       (pd.to_datetime(fw.departure.str.split(' ', n=1, expand=True)[0]).dt.time.astype('str') > '07:00:00'), 'day', 'night')\n",
    "\n",
    "fw['arrival_shift'] = np.where((pd.to_datetime(fw.arrival.str.split(' ', n=1, expand=True)[0]).dt.time.astype('str') < '19:00:00') &\\\n",
    "                       (pd.to_datetime(fw.arrival.str.split(' ', n=1, expand=True)[0]).dt.time.astype('str') > '07:00:00'), 'day', 'night')"
   ]
  },
  {
   "cell_type": "code",
   "execution_count": 89,
   "metadata": {},
   "outputs": [],
   "source": [
    "# rename columns and drop unnecessary columns\n",
    "fw = fw.rename({'ident_origin_1': 'origin_code', 'ident_destination_1': 'destination_code', \n",
    "           'name_origin':'airport_origin', 'iso_country_origin': 'country_origin',\n",
    "          'name_destination':'airport_destination', 'iso_country_destination': 'country_destination'}, axis=1)\\\n",
    "       .drop(['origin_location', 'destination_location', 'ICAO_code_origin', 'ICAO_code_destination'], axis=1)"
   ]
  },
  {
   "cell_type": "code",
   "execution_count": 90,
   "metadata": {},
   "outputs": [
    {
     "name": "stdout",
     "output_type": "stream",
     "text": [
      "<class 'pandas.core.frame.DataFrame'>\n",
      "Int64Index: 21959 entries, 0 to 21958\n",
      "Data columns (total 26 columns):\n",
      " #   Column                 Non-Null Count  Dtype         \n",
      "---  ------                 --------------  -----         \n",
      " 0   tail_number            21959 non-null  object        \n",
      " 1   date                   21959 non-null  datetime64[ns]\n",
      " 2   aircraft               21844 non-null  object        \n",
      " 3   origin                 21959 non-null  object        \n",
      " 4   destination            21959 non-null  object        \n",
      " 5   departure              21959 non-null  object        \n",
      " 6   arrival                21959 non-null  object        \n",
      " 7   duration               21959 non-null  object        \n",
      " 8   origin_Latitude        21956 non-null  float64       \n",
      " 9   origin_Longitude       21956 non-null  float64       \n",
      " 10  destination_Latitude   21954 non-null  float64       \n",
      " 11  destination_Longitude  21954 non-null  float64       \n",
      " 12  origin_code            21941 non-null  object        \n",
      " 13  destination_code       21921 non-null  object        \n",
      " 14  airport_origin         21941 non-null  object        \n",
      " 15  country_origin         21941 non-null  object        \n",
      " 16  airport_destination    21921 non-null  object        \n",
      " 17  country_destination    21921 non-null  object        \n",
      " 18  Owner                  21959 non-null  object        \n",
      " 19  distance_mi            21951 non-null  float64       \n",
      " 20  origin_state           21928 non-null  object        \n",
      " 21  destination_state      21926 non-null  object        \n",
      " 22  city_origin            21959 non-null  object        \n",
      " 23  city_destination       21959 non-null  object        \n",
      " 24  departure_shift        21959 non-null  object        \n",
      " 25  arrival_shift          21959 non-null  object        \n",
      "dtypes: datetime64[ns](1), float64(5), object(20)\n",
      "memory usage: 5.1+ MB\n"
     ]
    }
   ],
   "source": [
    "fw.info()"
   ]
  },
  {
   "cell_type": "code",
   "execution_count": 91,
   "metadata": {},
   "outputs": [],
   "source": [
    "# rearrange columns\n",
    "fw = fw.iloc[:,:3].join([fw.iloc[:,12], fw.iloc[:,3], fw.iloc[:,13], fw.iloc[:,4], fw.iloc[:,5:8], fw.iloc[:,19], fw.iloc[:,18], \n",
    "                    fw.iloc[:,8:12], fw.iloc[:,14], fw.iloc[:,22], fw.iloc[:,20], fw.iloc[:,15],\n",
    "                    fw.iloc[:,16], fw.iloc[:,23], fw.iloc[:,21], fw.iloc[:,17], fw.iloc[:,24:26]])"
   ]
  },
  {
   "cell_type": "code",
   "execution_count": 97,
   "metadata": {},
   "outputs": [
    {
     "data": {
      "text/html": [
       "<div>\n",
       "<style scoped>\n",
       "    .dataframe tbody tr th:only-of-type {\n",
       "        vertical-align: middle;\n",
       "    }\n",
       "\n",
       "    .dataframe tbody tr th {\n",
       "        vertical-align: top;\n",
       "    }\n",
       "\n",
       "    .dataframe thead th {\n",
       "        text-align: right;\n",
       "    }\n",
       "</style>\n",
       "<table border=\"1\" class=\"dataframe\">\n",
       "  <thead>\n",
       "    <tr style=\"text-align: right;\">\n",
       "      <th></th>\n",
       "      <th>tail_number</th>\n",
       "      <th>date</th>\n",
       "      <th>aircraft</th>\n",
       "      <th>origin_code</th>\n",
       "      <th>origin</th>\n",
       "      <th>destination_code</th>\n",
       "      <th>destination</th>\n",
       "      <th>departure</th>\n",
       "      <th>arrival</th>\n",
       "      <th>duration</th>\n",
       "      <th>distance_mi</th>\n",
       "      <th>Owner</th>\n",
       "      <th>origin_Latitude</th>\n",
       "      <th>origin_Longitude</th>\n",
       "      <th>destination_Latitude</th>\n",
       "      <th>destination_Longitude</th>\n",
       "      <th>airport_origin</th>\n",
       "      <th>city_origin</th>\n",
       "      <th>origin_state</th>\n",
       "      <th>country_origin</th>\n",
       "      <th>airport_destination</th>\n",
       "      <th>city_destination</th>\n",
       "      <th>destination_state</th>\n",
       "      <th>country_destination</th>\n",
       "      <th>departure_shift</th>\n",
       "      <th>arrival_shift</th>\n",
       "    </tr>\n",
       "  </thead>\n",
       "  <tbody>\n",
       "    <tr>\n",
       "      <th>0</th>\n",
       "      <td>N100KB</td>\n",
       "      <td>2021-02-20</td>\n",
       "      <td>BE9L</td>\n",
       "      <td>US-0571</td>\n",
       "      <td>Williston Basin International Airport (KXWA)</td>\n",
       "      <td>KBIS</td>\n",
       "      <td>Bismarck Muni (KBIS)</td>\n",
       "      <td>04:57PM CST</td>\n",
       "      <td>05:44PM CST</td>\n",
       "      <td>0:46</td>\n",
       "      <td>174.005874</td>\n",
       "      <td>EXECUTIVE AIR TAXI CORPBISMARCK, ND, US(Corpor...</td>\n",
       "      <td>48.258387</td>\n",
       "      <td>-103.748797</td>\n",
       "      <td>46.772701</td>\n",
       "      <td>-100.746002</td>\n",
       "      <td>Williston Basin International Airport</td>\n",
       "      <td>Williston</td>\n",
       "      <td>ND</td>\n",
       "      <td>US</td>\n",
       "      <td>Bismarck Municipal Airport</td>\n",
       "      <td>Bismarck</td>\n",
       "      <td>ND</td>\n",
       "      <td>US</td>\n",
       "      <td>day</td>\n",
       "      <td>day</td>\n",
       "    </tr>\n",
       "    <tr>\n",
       "      <th>1</th>\n",
       "      <td>N100KB</td>\n",
       "      <td>2021-02-20</td>\n",
       "      <td>BE9L</td>\n",
       "      <td>KBIS</td>\n",
       "      <td>Bismarck Muni (KBIS)</td>\n",
       "      <td>US-0571</td>\n",
       "      <td>Williston Basin International Airport (KXWA)</td>\n",
       "      <td>01:36PM CST</td>\n",
       "      <td>02:27PM CST</td>\n",
       "      <td>0:51</td>\n",
       "      <td>174.005874</td>\n",
       "      <td>EXECUTIVE AIR TAXI CORPBISMARCK, ND, US(Corpor...</td>\n",
       "      <td>46.772701</td>\n",
       "      <td>-100.746002</td>\n",
       "      <td>48.258387</td>\n",
       "      <td>-103.748797</td>\n",
       "      <td>Bismarck Municipal Airport</td>\n",
       "      <td>Bismarck</td>\n",
       "      <td>ND</td>\n",
       "      <td>US</td>\n",
       "      <td>Williston Basin International Airport</td>\n",
       "      <td>Williston</td>\n",
       "      <td>ND</td>\n",
       "      <td>US</td>\n",
       "      <td>day</td>\n",
       "      <td>day</td>\n",
       "    </tr>\n",
       "    <tr>\n",
       "      <th>2</th>\n",
       "      <td>N100KB</td>\n",
       "      <td>2021-02-18</td>\n",
       "      <td>BE9L</td>\n",
       "      <td>KMOT</td>\n",
       "      <td>Minot Intl (KMOT)</td>\n",
       "      <td>KBIS</td>\n",
       "      <td>Bismarck Muni (KBIS)</td>\n",
       "      <td>08:20AM CST</td>\n",
       "      <td>08:53AM CST</td>\n",
       "      <td>0:32</td>\n",
       "      <td>105.704153</td>\n",
       "      <td>EXECUTIVE AIR TAXI CORPBISMARCK, ND, US(Corpor...</td>\n",
       "      <td>48.259399</td>\n",
       "      <td>-101.279999</td>\n",
       "      <td>46.772701</td>\n",
       "      <td>-100.746002</td>\n",
       "      <td>Minot International Airport</td>\n",
       "      <td>Minot</td>\n",
       "      <td>ND</td>\n",
       "      <td>US</td>\n",
       "      <td>Bismarck Municipal Airport</td>\n",
       "      <td>Bismarck</td>\n",
       "      <td>ND</td>\n",
       "      <td>US</td>\n",
       "      <td>day</td>\n",
       "      <td>day</td>\n",
       "    </tr>\n",
       "    <tr>\n",
       "      <th>3</th>\n",
       "      <td>N100KB</td>\n",
       "      <td>2021-02-15</td>\n",
       "      <td>BE9L</td>\n",
       "      <td>US-0571</td>\n",
       "      <td>Williston Basin International Airport (KXWA)</td>\n",
       "      <td>KMOT</td>\n",
       "      <td>Minot Intl (KMOT)</td>\n",
       "      <td>02:15PM CST</td>\n",
       "      <td>02:49PM CST</td>\n",
       "      <td>0:33</td>\n",
       "      <td>113.899460</td>\n",
       "      <td>EXECUTIVE AIR TAXI CORPBISMARCK, ND, US(Corpor...</td>\n",
       "      <td>48.258387</td>\n",
       "      <td>-103.748797</td>\n",
       "      <td>48.259399</td>\n",
       "      <td>-101.279999</td>\n",
       "      <td>Williston Basin International Airport</td>\n",
       "      <td>Williston</td>\n",
       "      <td>ND</td>\n",
       "      <td>US</td>\n",
       "      <td>Minot International Airport</td>\n",
       "      <td>Minot</td>\n",
       "      <td>ND</td>\n",
       "      <td>US</td>\n",
       "      <td>day</td>\n",
       "      <td>day</td>\n",
       "    </tr>\n",
       "    <tr>\n",
       "      <th>4</th>\n",
       "      <td>N100KB</td>\n",
       "      <td>2021-02-15</td>\n",
       "      <td>BE9L</td>\n",
       "      <td>KMOT</td>\n",
       "      <td>Minot Intl (KMOT)</td>\n",
       "      <td>US-0571</td>\n",
       "      <td>Williston Basin International Airport (KXWA)</td>\n",
       "      <td>08:00AM CST</td>\n",
       "      <td>08:32AM CST</td>\n",
       "      <td>0:32</td>\n",
       "      <td>113.899460</td>\n",
       "      <td>EXECUTIVE AIR TAXI CORPBISMARCK, ND, US(Corpor...</td>\n",
       "      <td>48.259399</td>\n",
       "      <td>-101.279999</td>\n",
       "      <td>48.258387</td>\n",
       "      <td>-103.748797</td>\n",
       "      <td>Minot International Airport</td>\n",
       "      <td>Minot</td>\n",
       "      <td>ND</td>\n",
       "      <td>US</td>\n",
       "      <td>Williston Basin International Airport</td>\n",
       "      <td>Williston</td>\n",
       "      <td>ND</td>\n",
       "      <td>US</td>\n",
       "      <td>day</td>\n",
       "      <td>day</td>\n",
       "    </tr>\n",
       "  </tbody>\n",
       "</table>\n",
       "</div>"
      ],
      "text/plain": [
       "  tail_number       date aircraft origin_code  \\\n",
       "0      N100KB 2021-02-20     BE9L     US-0571   \n",
       "1      N100KB 2021-02-20     BE9L        KBIS   \n",
       "2      N100KB 2021-02-18     BE9L        KMOT   \n",
       "3      N100KB 2021-02-15     BE9L     US-0571   \n",
       "4      N100KB 2021-02-15     BE9L        KMOT   \n",
       "\n",
       "                                         origin destination_code  \\\n",
       "0  Williston Basin International Airport (KXWA)             KBIS   \n",
       "1                          Bismarck Muni (KBIS)          US-0571   \n",
       "2                             Minot Intl (KMOT)             KBIS   \n",
       "3  Williston Basin International Airport (KXWA)             KMOT   \n",
       "4                             Minot Intl (KMOT)          US-0571   \n",
       "\n",
       "                                    destination    departure      arrival  \\\n",
       "0                          Bismarck Muni (KBIS)  04:57PM CST  05:44PM CST   \n",
       "1  Williston Basin International Airport (KXWA)  01:36PM CST  02:27PM CST   \n",
       "2                          Bismarck Muni (KBIS)  08:20AM CST  08:53AM CST   \n",
       "3                             Minot Intl (KMOT)  02:15PM CST  02:49PM CST   \n",
       "4  Williston Basin International Airport (KXWA)  08:00AM CST  08:32AM CST   \n",
       "\n",
       "  duration  distance_mi                                              Owner  \\\n",
       "0     0:46   174.005874  EXECUTIVE AIR TAXI CORPBISMARCK, ND, US(Corpor...   \n",
       "1     0:51   174.005874  EXECUTIVE AIR TAXI CORPBISMARCK, ND, US(Corpor...   \n",
       "2     0:32   105.704153  EXECUTIVE AIR TAXI CORPBISMARCK, ND, US(Corpor...   \n",
       "3     0:33   113.899460  EXECUTIVE AIR TAXI CORPBISMARCK, ND, US(Corpor...   \n",
       "4     0:32   113.899460  EXECUTIVE AIR TAXI CORPBISMARCK, ND, US(Corpor...   \n",
       "\n",
       "   origin_Latitude  origin_Longitude  destination_Latitude  \\\n",
       "0        48.258387       -103.748797             46.772701   \n",
       "1        46.772701       -100.746002             48.258387   \n",
       "2        48.259399       -101.279999             46.772701   \n",
       "3        48.258387       -103.748797             48.259399   \n",
       "4        48.259399       -101.279999             48.258387   \n",
       "\n",
       "   destination_Longitude                         airport_origin city_origin  \\\n",
       "0            -100.746002  Williston Basin International Airport   Williston   \n",
       "1            -103.748797             Bismarck Municipal Airport    Bismarck   \n",
       "2            -100.746002            Minot International Airport       Minot   \n",
       "3            -101.279999  Williston Basin International Airport   Williston   \n",
       "4            -103.748797            Minot International Airport       Minot   \n",
       "\n",
       "  origin_state country_origin                    airport_destination  \\\n",
       "0           ND             US             Bismarck Municipal Airport   \n",
       "1           ND             US  Williston Basin International Airport   \n",
       "2           ND             US             Bismarck Municipal Airport   \n",
       "3           ND             US            Minot International Airport   \n",
       "4           ND             US  Williston Basin International Airport   \n",
       "\n",
       "  city_destination destination_state country_destination departure_shift  \\\n",
       "0         Bismarck                ND                  US             day   \n",
       "1        Williston                ND                  US             day   \n",
       "2         Bismarck                ND                  US             day   \n",
       "3            Minot                ND                  US             day   \n",
       "4        Williston                ND                  US             day   \n",
       "\n",
       "  arrival_shift  \n",
       "0           day  \n",
       "1           day  \n",
       "2           day  \n",
       "3           day  \n",
       "4           day  "
      ]
     },
     "execution_count": 97,
     "metadata": {},
     "output_type": "execute_result"
    }
   ],
   "source": [
    "fw.head()"
   ]
  },
  {
   "cell_type": "code",
   "execution_count": 93,
   "metadata": {},
   "outputs": [
    {
     "data": {
      "text/plain": [
       "(21959, 26)"
      ]
     },
     "execution_count": 93,
     "metadata": {},
     "output_type": "execute_result"
    }
   ],
   "source": [
    "fw.shape"
   ]
  },
  {
   "cell_type": "code",
   "execution_count": 94,
   "metadata": {},
   "outputs": [
    {
     "data": {
      "text/plain": [
       "tail_number                0\n",
       "date                       0\n",
       "aircraft                 115\n",
       "origin_code               18\n",
       "origin                     0\n",
       "destination_code          38\n",
       "destination                0\n",
       "departure                  0\n",
       "arrival                    0\n",
       "duration                   0\n",
       "distance_mi                8\n",
       "Owner                      0\n",
       "origin_Latitude            3\n",
       "origin_Longitude           3\n",
       "destination_Latitude       5\n",
       "destination_Longitude      5\n",
       "airport_origin            18\n",
       "city_origin                0\n",
       "origin_state              31\n",
       "country_origin            18\n",
       "airport_destination       38\n",
       "city_destination           0\n",
       "destination_state         33\n",
       "country_destination       38\n",
       "departure_shift            0\n",
       "arrival_shift              0\n",
       "dtype: int64"
      ]
     },
     "execution_count": 94,
     "metadata": {},
     "output_type": "execute_result"
    }
   ],
   "source": [
    "# check for null values\n",
    "fw.isna().sum()"
   ]
  },
  {
   "cell_type": "code",
   "execution_count": 98,
   "metadata": {},
   "outputs": [
    {
     "data": {
      "text/plain": [
       "177"
      ]
     },
     "execution_count": 98,
     "metadata": {},
     "output_type": "execute_result"
    }
   ],
   "source": [
    "# number of existing tail numbers with flight history\n",
    "fw.tail_number.nunique() "
   ]
  },
  {
   "cell_type": "code",
   "execution_count": 101,
   "metadata": {},
   "outputs": [
    {
     "data": {
      "text/plain": [
       "102"
      ]
     },
     "execution_count": 101,
     "metadata": {},
     "output_type": "execute_result"
    }
   ],
   "source": [
    "# number of existing tail numbers with flight history\n",
    "fw.Owner.nunique() "
   ]
  },
  {
   "cell_type": "code",
   "execution_count": 95,
   "metadata": {},
   "outputs": [],
   "source": [
    "# # import to csv\n",
    "# fw.to_csv(\"..//Datasets/NEW/FW_with_airports.csv\", index=False)"
   ]
  },
  {
   "cell_type": "code",
   "execution_count": null,
   "metadata": {},
   "outputs": [],
   "source": []
  }
 ],
 "metadata": {
  "kernelspec": {
   "display_name": "Python 3",
   "language": "python",
   "name": "python3"
  },
  "language_info": {
   "codemirror_mode": {
    "name": "ipython",
    "version": 3
   },
   "file_extension": ".py",
   "mimetype": "text/x-python",
   "name": "python",
   "nbconvert_exporter": "python",
   "pygments_lexer": "ipython3",
   "version": "3.8.5"
  }
 },
 "nbformat": 4,
 "nbformat_minor": 4
}
